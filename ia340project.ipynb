{
 "cells": [
  {
   "cell_type": "markdown",
   "id": "1c75f45e-66e4-43ef-941d-0719107448d0",
   "metadata": {},
   "source": [
    "## IA340 Project"
   ]
  },
  {
   "cell_type": "markdown",
   "id": "88bd7d74-022d-4ead-a01b-80d7ca97971a",
   "metadata": {},
   "source": [
    "## Team members: Nicolas Melendez, William Benson"
   ]
  },
  {
   "cell_type": "markdown",
   "id": "d10666c1-1b75-413d-9448-b42170ef74c6",
   "metadata": {},
   "source": [
    "Description of data: This data was retrieved from the City of New York and is all Motor Vehicle Crashes that were reported to police. Any crash that met the criteria of being reported (someone injurted or killed, excess of $1000 in damages) from 2019 to Oct. 11, 2024 is in this database."
   ]
  },
  {
   "cell_type": "code",
   "execution_count": 1,
   "id": "5dea862c-ec51-47f7-bc0c-839d3fd1d385",
   "metadata": {
    "tags": []
   },
   "outputs": [
    {
     "name": "stdout",
     "output_type": "stream",
     "text": [
      "<class 'pandas.core.frame.DataFrame'>\n",
      "RangeIndex: 2125763 entries, 0 to 2125762\n",
      "Data columns (total 29 columns):\n",
      " #   Column                         Dtype  \n",
      "---  ------                         -----  \n",
      " 0   CRASH DATE                     object \n",
      " 1   CRASH TIME                     object \n",
      " 2   BOROUGH                        object \n",
      " 3   ZIP CODE                       object \n",
      " 4   LATITUDE                       float64\n",
      " 5   LONGITUDE                      float64\n",
      " 6   LOCATION                       object \n",
      " 7   ON STREET NAME                 object \n",
      " 8   CROSS STREET NAME              object \n",
      " 9   OFF STREET NAME                object \n",
      " 10  NUMBER OF PERSONS INJURED      float64\n",
      " 11  NUMBER OF PERSONS KILLED       float64\n",
      " 12  NUMBER OF PEDESTRIANS INJURED  int64  \n",
      " 13  NUMBER OF PEDESTRIANS KILLED   int64  \n",
      " 14  NUMBER OF CYCLIST INJURED      int64  \n",
      " 15  NUMBER OF CYCLIST KILLED       int64  \n",
      " 16  NUMBER OF MOTORIST INJURED     int64  \n",
      " 17  NUMBER OF MOTORIST KILLED      int64  \n",
      " 18  CONTRIBUTING FACTOR VEHICLE 1  object \n",
      " 19  CONTRIBUTING FACTOR VEHICLE 2  object \n",
      " 20  CONTRIBUTING FACTOR VEHICLE 3  object \n",
      " 21  CONTRIBUTING FACTOR VEHICLE 4  object \n",
      " 22  CONTRIBUTING FACTOR VEHICLE 5  object \n",
      " 23  COLLISION_ID                   int64  \n",
      " 24  VEHICLE TYPE CODE 1            object \n",
      " 25  VEHICLE TYPE CODE 2            object \n",
      " 26  VEHICLE TYPE CODE 3            object \n",
      " 27  VEHICLE TYPE CODE 4            object \n",
      " 28  VEHICLE TYPE CODE 5            object \n",
      "dtypes: float64(4), int64(7), object(18)\n",
      "memory usage: 470.3+ MB\n"
     ]
    }
   ],
   "source": [
    "import pandas as pd\n",
    "import warnings\n",
    "warnings.filterwarnings('ignore')\n",
    "df = pd.read_csv('s3://vehiclecrashes.ia340/Motor_Vehicle_Collisions_-_Crashes.csv')\n",
    " #Display basic info about the dataset\n",
    "df.info()"
   ]
  },
  {
   "cell_type": "code",
   "execution_count": 2,
   "id": "8d7bfad8-cd08-42af-b520-abfe155c88cc",
   "metadata": {
    "tags": []
   },
   "outputs": [
    {
     "data": {
      "text/html": [
       "<div>\n",
       "<style scoped>\n",
       "    .dataframe tbody tr th:only-of-type {\n",
       "        vertical-align: middle;\n",
       "    }\n",
       "\n",
       "    .dataframe tbody tr th {\n",
       "        vertical-align: top;\n",
       "    }\n",
       "\n",
       "    .dataframe thead th {\n",
       "        text-align: right;\n",
       "    }\n",
       "</style>\n",
       "<table border=\"1\" class=\"dataframe\">\n",
       "  <thead>\n",
       "    <tr style=\"text-align: right;\">\n",
       "      <th></th>\n",
       "      <th>CRASH DATE</th>\n",
       "      <th>CRASH TIME</th>\n",
       "      <th>BOROUGH</th>\n",
       "      <th>ZIP CODE</th>\n",
       "      <th>LATITUDE</th>\n",
       "      <th>LONGITUDE</th>\n",
       "      <th>LOCATION</th>\n",
       "      <th>ON STREET NAME</th>\n",
       "      <th>CROSS STREET NAME</th>\n",
       "      <th>OFF STREET NAME</th>\n",
       "      <th>...</th>\n",
       "      <th>CONTRIBUTING FACTOR VEHICLE 2</th>\n",
       "      <th>CONTRIBUTING FACTOR VEHICLE 3</th>\n",
       "      <th>CONTRIBUTING FACTOR VEHICLE 4</th>\n",
       "      <th>CONTRIBUTING FACTOR VEHICLE 5</th>\n",
       "      <th>COLLISION_ID</th>\n",
       "      <th>VEHICLE TYPE CODE 1</th>\n",
       "      <th>VEHICLE TYPE CODE 2</th>\n",
       "      <th>VEHICLE TYPE CODE 3</th>\n",
       "      <th>VEHICLE TYPE CODE 4</th>\n",
       "      <th>VEHICLE TYPE CODE 5</th>\n",
       "    </tr>\n",
       "  </thead>\n",
       "  <tbody>\n",
       "    <tr>\n",
       "      <th>0</th>\n",
       "      <td>09/11/2021</td>\n",
       "      <td>2:39</td>\n",
       "      <td>NaN</td>\n",
       "      <td>NaN</td>\n",
       "      <td>NaN</td>\n",
       "      <td>NaN</td>\n",
       "      <td>NaN</td>\n",
       "      <td>WHITESTONE EXPRESSWAY</td>\n",
       "      <td>20 AVENUE</td>\n",
       "      <td>NaN</td>\n",
       "      <td>...</td>\n",
       "      <td>Unspecified</td>\n",
       "      <td>NaN</td>\n",
       "      <td>NaN</td>\n",
       "      <td>NaN</td>\n",
       "      <td>4455765</td>\n",
       "      <td>Sedan</td>\n",
       "      <td>Sedan</td>\n",
       "      <td>NaN</td>\n",
       "      <td>NaN</td>\n",
       "      <td>NaN</td>\n",
       "    </tr>\n",
       "    <tr>\n",
       "      <th>1</th>\n",
       "      <td>03/26/2022</td>\n",
       "      <td>11:45</td>\n",
       "      <td>NaN</td>\n",
       "      <td>NaN</td>\n",
       "      <td>NaN</td>\n",
       "      <td>NaN</td>\n",
       "      <td>NaN</td>\n",
       "      <td>QUEENSBORO BRIDGE UPPER</td>\n",
       "      <td>NaN</td>\n",
       "      <td>NaN</td>\n",
       "      <td>...</td>\n",
       "      <td>NaN</td>\n",
       "      <td>NaN</td>\n",
       "      <td>NaN</td>\n",
       "      <td>NaN</td>\n",
       "      <td>4513547</td>\n",
       "      <td>Sedan</td>\n",
       "      <td>NaN</td>\n",
       "      <td>NaN</td>\n",
       "      <td>NaN</td>\n",
       "      <td>NaN</td>\n",
       "    </tr>\n",
       "    <tr>\n",
       "      <th>2</th>\n",
       "      <td>06/29/2022</td>\n",
       "      <td>6:55</td>\n",
       "      <td>NaN</td>\n",
       "      <td>NaN</td>\n",
       "      <td>NaN</td>\n",
       "      <td>NaN</td>\n",
       "      <td>NaN</td>\n",
       "      <td>THROGS NECK BRIDGE</td>\n",
       "      <td>NaN</td>\n",
       "      <td>NaN</td>\n",
       "      <td>...</td>\n",
       "      <td>Unspecified</td>\n",
       "      <td>NaN</td>\n",
       "      <td>NaN</td>\n",
       "      <td>NaN</td>\n",
       "      <td>4541903</td>\n",
       "      <td>Sedan</td>\n",
       "      <td>Pick-up Truck</td>\n",
       "      <td>NaN</td>\n",
       "      <td>NaN</td>\n",
       "      <td>NaN</td>\n",
       "    </tr>\n",
       "    <tr>\n",
       "      <th>3</th>\n",
       "      <td>09/11/2021</td>\n",
       "      <td>9:35</td>\n",
       "      <td>BROOKLYN</td>\n",
       "      <td>11208.0</td>\n",
       "      <td>40.667202</td>\n",
       "      <td>-73.866500</td>\n",
       "      <td>(40.667202, -73.8665)</td>\n",
       "      <td>NaN</td>\n",
       "      <td>NaN</td>\n",
       "      <td>1211      LORING AVENUE</td>\n",
       "      <td>...</td>\n",
       "      <td>NaN</td>\n",
       "      <td>NaN</td>\n",
       "      <td>NaN</td>\n",
       "      <td>NaN</td>\n",
       "      <td>4456314</td>\n",
       "      <td>Sedan</td>\n",
       "      <td>NaN</td>\n",
       "      <td>NaN</td>\n",
       "      <td>NaN</td>\n",
       "      <td>NaN</td>\n",
       "    </tr>\n",
       "    <tr>\n",
       "      <th>4</th>\n",
       "      <td>12/14/2021</td>\n",
       "      <td>8:13</td>\n",
       "      <td>BROOKLYN</td>\n",
       "      <td>11233.0</td>\n",
       "      <td>40.683304</td>\n",
       "      <td>-73.917274</td>\n",
       "      <td>(40.683304, -73.917274)</td>\n",
       "      <td>SARATOGA AVENUE</td>\n",
       "      <td>DECATUR STREET</td>\n",
       "      <td>NaN</td>\n",
       "      <td>...</td>\n",
       "      <td>NaN</td>\n",
       "      <td>NaN</td>\n",
       "      <td>NaN</td>\n",
       "      <td>NaN</td>\n",
       "      <td>4486609</td>\n",
       "      <td>NaN</td>\n",
       "      <td>NaN</td>\n",
       "      <td>NaN</td>\n",
       "      <td>NaN</td>\n",
       "      <td>NaN</td>\n",
       "    </tr>\n",
       "  </tbody>\n",
       "</table>\n",
       "<p>5 rows × 29 columns</p>\n",
       "</div>"
      ],
      "text/plain": [
       "   CRASH DATE CRASH TIME   BOROUGH ZIP CODE   LATITUDE  LONGITUDE  \\\n",
       "0  09/11/2021       2:39       NaN      NaN        NaN        NaN   \n",
       "1  03/26/2022      11:45       NaN      NaN        NaN        NaN   \n",
       "2  06/29/2022       6:55       NaN      NaN        NaN        NaN   \n",
       "3  09/11/2021       9:35  BROOKLYN  11208.0  40.667202 -73.866500   \n",
       "4  12/14/2021       8:13  BROOKLYN  11233.0  40.683304 -73.917274   \n",
       "\n",
       "                  LOCATION           ON STREET NAME CROSS STREET NAME  \\\n",
       "0                      NaN    WHITESTONE EXPRESSWAY         20 AVENUE   \n",
       "1                      NaN  QUEENSBORO BRIDGE UPPER               NaN   \n",
       "2                      NaN       THROGS NECK BRIDGE               NaN   \n",
       "3    (40.667202, -73.8665)                      NaN               NaN   \n",
       "4  (40.683304, -73.917274)          SARATOGA AVENUE    DECATUR STREET   \n",
       "\n",
       "           OFF STREET NAME  ...  CONTRIBUTING FACTOR VEHICLE 2  \\\n",
       "0                      NaN  ...                    Unspecified   \n",
       "1                      NaN  ...                            NaN   \n",
       "2                      NaN  ...                    Unspecified   \n",
       "3  1211      LORING AVENUE  ...                            NaN   \n",
       "4                      NaN  ...                            NaN   \n",
       "\n",
       "   CONTRIBUTING FACTOR VEHICLE 3  CONTRIBUTING FACTOR VEHICLE 4  \\\n",
       "0                            NaN                            NaN   \n",
       "1                            NaN                            NaN   \n",
       "2                            NaN                            NaN   \n",
       "3                            NaN                            NaN   \n",
       "4                            NaN                            NaN   \n",
       "\n",
       "   CONTRIBUTING FACTOR VEHICLE 5  COLLISION_ID  VEHICLE TYPE CODE 1  \\\n",
       "0                            NaN       4455765                Sedan   \n",
       "1                            NaN       4513547                Sedan   \n",
       "2                            NaN       4541903                Sedan   \n",
       "3                            NaN       4456314                Sedan   \n",
       "4                            NaN       4486609                  NaN   \n",
       "\n",
       "   VEHICLE TYPE CODE 2  VEHICLE TYPE CODE 3 VEHICLE TYPE CODE 4  \\\n",
       "0                Sedan                  NaN                 NaN   \n",
       "1                  NaN                  NaN                 NaN   \n",
       "2        Pick-up Truck                  NaN                 NaN   \n",
       "3                  NaN                  NaN                 NaN   \n",
       "4                  NaN                  NaN                 NaN   \n",
       "\n",
       "  VEHICLE TYPE CODE 5  \n",
       "0                 NaN  \n",
       "1                 NaN  \n",
       "2                 NaN  \n",
       "3                 NaN  \n",
       "4                 NaN  \n",
       "\n",
       "[5 rows x 29 columns]"
      ]
     },
     "execution_count": 2,
     "metadata": {},
     "output_type": "execute_result"
    }
   ],
   "source": [
    "#Displaying the first few rows of my dataset\n",
    "df.head()"
   ]
  },
  {
   "cell_type": "code",
   "execution_count": 3,
   "id": "205551c7-00e4-42e8-b66f-54e89f8b529a",
   "metadata": {
    "tags": []
   },
   "outputs": [
    {
     "data": {
      "text/plain": [
       "CRASH DATE                             0\n",
       "CRASH TIME                             0\n",
       "BOROUGH                           661104\n",
       "ZIP CODE                          661364\n",
       "LATITUDE                          252597\n",
       "LONGITUDE                         252597\n",
       "LOCATION                          252597\n",
       "ON STREET NAME                    455112\n",
       "CROSS STREET NAME                 810044\n",
       "OFF STREET NAME                  1763024\n",
       "NUMBER OF PERSONS INJURED             18\n",
       "NUMBER OF PERSONS KILLED              31\n",
       "NUMBER OF PEDESTRIANS INJURED          0\n",
       "NUMBER OF PEDESTRIANS KILLED           0\n",
       "NUMBER OF CYCLIST INJURED              0\n",
       "NUMBER OF CYCLIST KILLED               0\n",
       "NUMBER OF MOTORIST INJURED             0\n",
       "NUMBER OF MOTORIST KILLED              0\n",
       "CONTRIBUTING FACTOR VEHICLE 1       7144\n",
       "CONTRIBUTING FACTOR VEHICLE 2     333073\n",
       "CONTRIBUTING FACTOR VEHICLE 3    1972957\n",
       "CONTRIBUTING FACTOR VEHICLE 4    2091067\n",
       "CONTRIBUTING FACTOR VEHICLE 5    2116325\n",
       "COLLISION_ID                           0\n",
       "VEHICLE TYPE CODE 1                14467\n",
       "VEHICLE TYPE CODE 2               413081\n",
       "VEHICLE TYPE CODE 3              1978670\n",
       "VEHICLE TYPE CODE 4              2092304\n",
       "VEHICLE TYPE CODE 5              2116615\n",
       "dtype: int64"
      ]
     },
     "execution_count": 3,
     "metadata": {},
     "output_type": "execute_result"
    }
   ],
   "source": [
    "#Checking for missing values\n",
    "(df.isnull().sum())"
   ]
  },
  {
   "cell_type": "code",
   "execution_count": 4,
   "id": "1d1c0212-05ab-4189-beec-594542e46abd",
   "metadata": {
    "tags": []
   },
   "outputs": [],
   "source": [
    "#Dropping rows with missing data\n",
    "df_cleaned = df.dropna()"
   ]
  },
  {
   "cell_type": "code",
   "execution_count": 5,
   "id": "9fb9058d-1810-4677-ad4d-8dca4a266293",
   "metadata": {
    "tags": []
   },
   "outputs": [
    {
     "data": {
      "text/plain": [
       "CRASH DATE                             0\n",
       "CRASH TIME                             0\n",
       "BOROUGH                           661104\n",
       "ZIP CODE                          661364\n",
       "LATITUDE                          252597\n",
       "LONGITUDE                         252597\n",
       "LOCATION                          252597\n",
       "ON STREET NAME                    455112\n",
       "CROSS STREET NAME                 810044\n",
       "OFF STREET NAME                  1763024\n",
       "NUMBER OF PERSONS INJURED             18\n",
       "NUMBER OF PERSONS KILLED              31\n",
       "NUMBER OF PEDESTRIANS INJURED          0\n",
       "NUMBER OF PEDESTRIANS KILLED           0\n",
       "NUMBER OF CYCLIST INJURED              0\n",
       "NUMBER OF CYCLIST KILLED               0\n",
       "NUMBER OF MOTORIST INJURED             0\n",
       "NUMBER OF MOTORIST KILLED              0\n",
       "CONTRIBUTING FACTOR VEHICLE 1       7144\n",
       "CONTRIBUTING FACTOR VEHICLE 2     333073\n",
       "CONTRIBUTING FACTOR VEHICLE 3    1972957\n",
       "CONTRIBUTING FACTOR VEHICLE 4    2091067\n",
       "CONTRIBUTING FACTOR VEHICLE 5    2116325\n",
       "COLLISION_ID                           0\n",
       "VEHICLE TYPE CODE 1                14467\n",
       "VEHICLE TYPE CODE 2               413081\n",
       "VEHICLE TYPE CODE 3              1978670\n",
       "VEHICLE TYPE CODE 4              2092304\n",
       "VEHICLE TYPE CODE 5              2116615\n",
       "dtype: int64"
      ]
     },
     "execution_count": 5,
     "metadata": {},
     "output_type": "execute_result"
    }
   ],
   "source": [
    "df.isnull().sum()"
   ]
  },
  {
   "cell_type": "code",
   "execution_count": 6,
   "id": "7c32f0a0-bf86-4b77-a4e4-bc8240ed0c0f",
   "metadata": {
    "tags": []
   },
   "outputs": [],
   "source": [
    "#Filling missing values with a place holder\n",
    "df_filled = df.fillna(0)"
   ]
  },
  {
   "cell_type": "code",
   "execution_count": 7,
   "id": "6689ee44-2914-414c-9533-1cc62c945756",
   "metadata": {
    "tags": []
   },
   "outputs": [],
   "source": [
    "# Check for duplicates\n",
    "duplicates = df.duplicated().sum()\n",
    "\n",
    "# Remove duplicates\n",
    "df_no_duplicates = df.drop_duplicates()\n"
   ]
  },
  {
   "cell_type": "code",
   "execution_count": 22,
   "id": "fcec87e6-84df-483f-b7e4-5fee783e3337",
   "metadata": {
    "tags": []
   },
   "outputs": [
    {
     "name": "stdout",
     "output_type": "stream",
     "text": [
      "         BOROUGH  NUMBER OF PERSONS KILLED\n",
      "0          BRONX                     291.0\n",
      "1       BROOKLYN                     648.0\n",
      "2      MANHATTAN                     351.0\n",
      "3         QUEENS                     545.0\n",
      "4  STATEN ISLAND                      97.0\n"
     ]
    }
   ],
   "source": [
    "# Finding the number of people killed in each borough\n",
    "borough_killed = df.groupby('BOROUGH')['NUMBER OF PERSONS KILLED'].sum().reset_index()\n",
    "\n",
    "# Check the grouped data\n",
    "print(borough_killed)\n"
   ]
  },
  {
   "cell_type": "code",
   "execution_count": 23,
   "id": "b78e777b-233f-4004-bb99-e6a6c5f3c7dd",
   "metadata": {
    "tags": []
   },
   "outputs": [
    {
     "data": {
      "image/png": "[encoded data removed]",
      "text/plain": [
       "<Figure size 1000x600 with 1 Axes>"
      ]
     },
     "metadata": {},
     "output_type": "display_data"
    }
   ],
   "source": [
    "#Visualizing my finging\n",
    "import matplotlib.pyplot as plt\n",
    "\n",
    "# Create a bar plot\n",
    "plt.figure(figsize=(10,6))\n",
    "plt.bar(borough_killed['BOROUGH'], borough_killed['NUMBER OF PERSONS KILLED'], color='blue')\n",
    "\n",
    "# Add labels and title\n",
    "plt.xlabel('Borough')\n",
    "plt.ylabel('Number of Persons Killed')\n",
    "plt.title('Number of Persons Killed in Each Borough')\n",
    "\n",
    "# Show the graph\n",
    "plt.show()\n"
   ]
  },
  {
   "cell_type": "code",
   "execution_count": null,
   "id": "d955a672-50ac-4842-b27f-caabbe48682e",
   "metadata": {},
   "outputs": [],
   "source": []
  }
 ],
 "metadata": {
  "kernelspec": {
   "display_name": "conda_python3",
   "language": "python",
   "name": "conda_python3"
  },
  "language_info": {
   "codemirror_mode": {
    "name": "ipython",
    "version": 3
   },
   "file_extension": ".py",
   "mimetype": "text/x-python",
   "name": "python",
   "nbconvert_exporter": "python",
   "pygments_lexer": "ipython3",
   "version": "3.10.14"
  }
 },
 "nbformat": 4,
 "nbformat_minor": 5
}
