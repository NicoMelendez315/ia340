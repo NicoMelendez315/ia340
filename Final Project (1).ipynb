{
 "cells": [
  {
   "cell_type": "markdown",
   "id": "8cf92b1a-21f5-4050-a80d-6b7acd6bef60",
   "metadata": {},
   "source": [
    "# Final Project"
   ]
  },
  {
   "cell_type": "markdown",
   "id": "aefcacfa-814a-460e-9d28-1ad683a684ab",
   "metadata": {},
   "source": [
    "Analyze the collected Twitter data with OpenAI and store the results in a MongoDB database. The analyses include:\n",
    "\n",
    "\n",
    "- Extract entities\n",
    "- Summarize"
   ]
  },
  {
   "cell_type": "markdown",
   "id": "ebdff760-a533-4ebf-b873-0d8576729536",
   "metadata": {},
   "source": [
    "## Install Python libraries."
   ]
  },
  {
   "cell_type": "markdown",
   "id": "67b55ccf-2acb-433c-90d4-ae9bb4bc5522",
   "metadata": {},
   "source": [
    "- pymongo: manage the MongoDB database\n",
    "- openai: call the OpenAI APIs."
   ]
  },
  {
   "cell_type": "code",
   "execution_count": 1,
   "id": "29f5cfe2-a541-41bf-803d-e597e343d02c",
   "metadata": {
    "tags": []
   },
   "outputs": [
    {
     "name": "stdout",
     "output_type": "stream",
     "text": [
      "Requirement already satisfied: pymongo in /home/ec2-user/anaconda3/envs/python3/lib/python3.10/site-packages (4.10.1)\n",
      "Requirement already satisfied: dnspython<3.0.0,>=1.16.0 in /home/ec2-user/anaconda3/envs/python3/lib/python3.10/site-packages (from pymongo) (2.7.0)\n",
      "Note: you may need to restart the kernel to use updated packages.\n"
     ]
    }
   ],
   "source": [
    "pip install pymongo"
   ]
  },
  {
   "cell_type": "code",
   "execution_count": 4,
   "id": "0597b28e-f89c-4a4f-b320-984fec95aba5",
   "metadata": {
    "tags": []
   },
   "outputs": [
    {
     "name": "stdout",
     "output_type": "stream",
     "text": [
      "Collecting jupyter-ai~=1.0\n",
      "  Downloading jupyter_ai-1.15.0-py3-none-any.whl.metadata (8.2 kB)\n",
      "Collecting aiosqlite>=0.18 (from jupyter-ai~=1.0)\n",
      "  Using cached aiosqlite-0.20.0-py3-none-any.whl.metadata (4.3 kB)\n",
      "Requirement already satisfied: dask[distributed] in /home/ec2-user/anaconda3/envs/python3/lib/python3.10/site-packages (from jupyter-ai~=1.0) (2024.2.1)\n",
      "Collecting deepmerge>=1.0 (from jupyter-ai~=1.0)\n",
      "  Downloading deepmerge-2.0-py3-none-any.whl.metadata (3.5 kB)\n",
      "Collecting faiss-cpu (from jupyter-ai~=1.0)\n",
      "  Downloading faiss_cpu-1.9.0.post1-cp310-cp310-manylinux_2_17_x86_64.manylinux2014_x86_64.whl.metadata (4.4 kB)\n",
      "Requirement already satisfied: importlib-metadata>=5.2.0 in /home/ec2-user/anaconda3/envs/python3/lib/python3.10/site-packages (from jupyter-ai~=1.0) (6.11.0)\n",
      "Collecting jupyter-ai-magics (from jupyter-ai~=1.0)\n",
      "  Downloading jupyter_ai_magics-2.28.2-py3-none-any.whl.metadata (4.1 kB)\n",
      "Requirement already satisfied: jupyter-server<3,>=1.6 in /home/ec2-user/anaconda3/envs/python3/lib/python3.10/site-packages (from jupyter-ai~=1.0) (2.14.2)\n",
      "Collecting jupyterlab<4,>=3.5 (from jupyter-ai~=1.0)\n",
      "  Using cached jupyterlab-3.6.8-py3-none-any.whl.metadata (12 kB)\n",
      "Requirement already satisfied: traitlets>=5.0 in /home/ec2-user/anaconda3/envs/python3/lib/python3.10/site-packages (from jupyter-ai~=1.0) (5.14.3)\n",
      "Requirement already satisfied: typing-extensions>=4.5.0 in /home/ec2-user/anaconda3/envs/python3/lib/python3.10/site-packages (from jupyter-ai~=1.0) (4.12.2)\n",
      "Requirement already satisfied: zipp>=0.5 in /home/ec2-user/anaconda3/envs/python3/lib/python3.10/site-packages (from importlib-metadata>=5.2.0->jupyter-ai~=1.0) (3.20.2)\n",
      "Requirement already satisfied: anyio>=3.1.0 in /home/ec2-user/anaconda3/envs/python3/lib/python3.10/site-packages (from jupyter-server<3,>=1.6->jupyter-ai~=1.0) (4.6.2.post1)\n",
      "Requirement already satisfied: argon2-cffi>=21.1 in /home/ec2-user/anaconda3/envs/python3/lib/python3.10/site-packages (from jupyter-server<3,>=1.6->jupyter-ai~=1.0) (23.1.0)\n",
      "Requirement already satisfied: jinja2>=3.0.3 in /home/ec2-user/anaconda3/envs/python3/lib/python3.10/site-packages (from jupyter-server<3,>=1.6->jupyter-ai~=1.0) (3.1.4)\n",
      "Requirement already satisfied: jupyter-client>=7.4.4 in /home/ec2-user/anaconda3/envs/python3/lib/python3.10/site-packages (from jupyter-server<3,>=1.6->jupyter-ai~=1.0) (8.6.3)\n",
      "Requirement already satisfied: jupyter-core!=5.0.*,>=4.12 in /home/ec2-user/anaconda3/envs/python3/lib/python3.10/site-packages (from jupyter-server<3,>=1.6->jupyter-ai~=1.0) (5.7.2)\n",
      "Requirement already satisfied: jupyter-events>=0.9.0 in /home/ec2-user/anaconda3/envs/python3/lib/python3.10/site-packages (from jupyter-server<3,>=1.6->jupyter-ai~=1.0) (0.10.0)\n",
      "Requirement already satisfied: jupyter-server-terminals>=0.4.4 in /home/ec2-user/anaconda3/envs/python3/lib/python3.10/site-packages (from jupyter-server<3,>=1.6->jupyter-ai~=1.0) (0.5.3)\n",
      "Requirement already satisfied: nbconvert>=6.4.4 in /home/ec2-user/anaconda3/envs/python3/lib/python3.10/site-packages (from jupyter-server<3,>=1.6->jupyter-ai~=1.0) (7.16.4)\n",
      "Requirement already satisfied: nbformat>=5.3.0 in /home/ec2-user/anaconda3/envs/python3/lib/python3.10/site-packages (from jupyter-server<3,>=1.6->jupyter-ai~=1.0) (5.10.4)\n",
      "Requirement already satisfied: overrides>=5.0 in /home/ec2-user/anaconda3/envs/python3/lib/python3.10/site-packages (from jupyter-server<3,>=1.6->jupyter-ai~=1.0) (7.7.0)\n",
      "Collecting packaging>=22.0 (from jupyter-server<3,>=1.6->jupyter-ai~=1.0)\n",
      "  Using cached packaging-24.2-py3-none-any.whl.metadata (3.2 kB)\n",
      "Requirement already satisfied: prometheus-client>=0.9 in /home/ec2-user/anaconda3/envs/python3/lib/python3.10/site-packages (from jupyter-server<3,>=1.6->jupyter-ai~=1.0) (0.21.0)\n",
      "Requirement already satisfied: pyzmq>=24 in /home/ec2-user/anaconda3/envs/python3/lib/python3.10/site-packages (from jupyter-server<3,>=1.6->jupyter-ai~=1.0) (26.2.0)\n",
      "Requirement already satisfied: send2trash>=1.8.2 in /home/ec2-user/anaconda3/envs/python3/lib/python3.10/site-packages (from jupyter-server<3,>=1.6->jupyter-ai~=1.0) (1.8.3)\n",
      "Requirement already satisfied: terminado>=0.8.3 in /home/ec2-user/anaconda3/envs/python3/lib/python3.10/site-packages (from jupyter-server<3,>=1.6->jupyter-ai~=1.0) (0.18.1)\n",
      "Requirement already satisfied: tornado>=6.2.0 in /home/ec2-user/anaconda3/envs/python3/lib/python3.10/site-packages (from jupyter-server<3,>=1.6->jupyter-ai~=1.0) (6.4.1)\n",
      "Requirement already satisfied: websocket-client>=1.7 in /home/ec2-user/anaconda3/envs/python3/lib/python3.10/site-packages (from jupyter-server<3,>=1.6->jupyter-ai~=1.0) (1.8.0)\n",
      "Requirement already satisfied: ipython in /home/ec2-user/anaconda3/envs/python3/lib/python3.10/site-packages (from jupyterlab<4,>=3.5->jupyter-ai~=1.0) (8.28.0)\n",
      "Requirement already satisfied: jupyterlab-server~=2.19 in /home/ec2-user/anaconda3/envs/python3/lib/python3.10/site-packages (from jupyterlab<4,>=3.5->jupyter-ai~=1.0) (2.27.3)\n",
      "Collecting jupyter-ydoc~=0.2.4 (from jupyterlab<4,>=3.5->jupyter-ai~=1.0)\n",
      "  Using cached jupyter_ydoc-0.2.5-py3-none-any.whl.metadata (2.2 kB)\n",
      "Collecting jupyter-server-ydoc~=0.8.0 (from jupyterlab<4,>=3.5->jupyter-ai~=1.0)\n",
      "  Using cached jupyter_server_ydoc-0.8.0-py3-none-any.whl.metadata (5.3 kB)\n",
      "Collecting nbclassic (from jupyterlab<4,>=3.5->jupyter-ai~=1.0)\n",
      "  Using cached nbclassic-1.1.0-py3-none-any.whl.metadata (3.6 kB)\n",
      "Collecting notebook<7 (from jupyterlab<4,>=3.5->jupyter-ai~=1.0)\n",
      "  Using cached notebook-6.5.7-py3-none-any.whl.metadata (2.5 kB)\n",
      "Requirement already satisfied: tomli in /home/ec2-user/anaconda3/envs/python3/lib/python3.10/site-packages (from jupyterlab<4,>=3.5->jupyter-ai~=1.0) (2.0.2)\n",
      "Requirement already satisfied: click>=8.1 in /home/ec2-user/anaconda3/envs/python3/lib/python3.10/site-packages (from dask[distributed]->jupyter-ai~=1.0) (8.1.7)\n",
      "Requirement already satisfied: cloudpickle>=1.5.0 in /home/ec2-user/anaconda3/envs/python3/lib/python3.10/site-packages (from dask[distributed]->jupyter-ai~=1.0) (2.2.1)\n",
      "Requirement already satisfied: fsspec>=2021.09.0 in /home/ec2-user/anaconda3/envs/python3/lib/python3.10/site-packages (from dask[distributed]->jupyter-ai~=1.0) (2024.10.0)\n",
      "Requirement already satisfied: partd>=1.2.0 in /home/ec2-user/anaconda3/envs/python3/lib/python3.10/site-packages (from dask[distributed]->jupyter-ai~=1.0) (1.4.2)\n",
      "Requirement already satisfied: pyyaml>=5.3.1 in /home/ec2-user/anaconda3/envs/python3/lib/python3.10/site-packages (from dask[distributed]->jupyter-ai~=1.0) (6.0.2)\n",
      "Requirement already satisfied: toolz>=0.10.0 in /home/ec2-user/anaconda3/envs/python3/lib/python3.10/site-packages (from dask[distributed]->jupyter-ai~=1.0) (1.0.0)\n",
      "Requirement already satisfied: distributed==2024.2.1 in /home/ec2-user/anaconda3/envs/python3/lib/python3.10/site-packages (from dask[distributed]->jupyter-ai~=1.0) (2024.2.1)\n",
      "Requirement already satisfied: locket>=1.0.0 in /home/ec2-user/anaconda3/envs/python3/lib/python3.10/site-packages (from distributed==2024.2.1->dask[distributed]->jupyter-ai~=1.0) (1.0.0)\n",
      "Requirement already satisfied: msgpack>=1.0.0 in /home/ec2-user/anaconda3/envs/python3/lib/python3.10/site-packages (from distributed==2024.2.1->dask[distributed]->jupyter-ai~=1.0) (1.1.0)\n",
      "Requirement already satisfied: psutil>=5.7.2 in /home/ec2-user/anaconda3/envs/python3/lib/python3.10/site-packages (from distributed==2024.2.1->dask[distributed]->jupyter-ai~=1.0) (6.0.0)\n",
      "Requirement already satisfied: sortedcontainers>=2.0.5 in /home/ec2-user/anaconda3/envs/python3/lib/python3.10/site-packages (from distributed==2024.2.1->dask[distributed]->jupyter-ai~=1.0) (2.4.0)\n",
      "Requirement already satisfied: tblib>=1.6.0 in /home/ec2-user/anaconda3/envs/python3/lib/python3.10/site-packages (from distributed==2024.2.1->dask[distributed]->jupyter-ai~=1.0) (3.0.0)\n",
      "Requirement already satisfied: urllib3>=1.24.3 in /home/ec2-user/anaconda3/envs/python3/lib/python3.10/site-packages (from distributed==2024.2.1->dask[distributed]->jupyter-ai~=1.0) (2.2.3)\n",
      "Requirement already satisfied: zict>=3.0.0 in /home/ec2-user/anaconda3/envs/python3/lib/python3.10/site-packages (from distributed==2024.2.1->dask[distributed]->jupyter-ai~=1.0) (3.0.0)\n",
      "Requirement already satisfied: numpy<3.0,>=1.25.0 in /home/ec2-user/anaconda3/envs/python3/lib/python3.10/site-packages (from faiss-cpu->jupyter-ai~=1.0) (1.26.4)\n",
      "Collecting jsonpath-ng<2,>=1.5.3 (from jupyter-ai-magics->jupyter-ai~=1.0)\n",
      "  Downloading jsonpath_ng-1.7.0-py3-none-any.whl.metadata (18 kB)\n",
      "Collecting langchain-community<0.3.0,>=0.2.19 (from jupyter-ai-magics->jupyter-ai~=1.0)\n",
      "  Downloading langchain_community-0.2.19-py3-none-any.whl.metadata (2.7 kB)\n",
      "Collecting langchain<0.3.0,>=0.2.17 (from jupyter-ai-magics->jupyter-ai~=1.0)\n",
      "  Downloading langchain-0.2.17-py3-none-any.whl.metadata (7.1 kB)\n",
      "Requirement already satisfied: idna>=2.8 in /home/ec2-user/anaconda3/envs/python3/lib/python3.10/site-packages (from anyio>=3.1.0->jupyter-server<3,>=1.6->jupyter-ai~=1.0) (3.10)\n",
      "Requirement already satisfied: sniffio>=1.1 in /home/ec2-user/anaconda3/envs/python3/lib/python3.10/site-packages (from anyio>=3.1.0->jupyter-server<3,>=1.6->jupyter-ai~=1.0) (1.3.1)\n",
      "Requirement already satisfied: exceptiongroup>=1.0.2 in /home/ec2-user/anaconda3/envs/python3/lib/python3.10/site-packages (from anyio>=3.1.0->jupyter-server<3,>=1.6->jupyter-ai~=1.0) (1.2.2)\n",
      "Requirement already satisfied: argon2-cffi-bindings in /home/ec2-user/anaconda3/envs/python3/lib/python3.10/site-packages (from argon2-cffi>=21.1->jupyter-server<3,>=1.6->jupyter-ai~=1.0) (21.2.0)\n",
      "Requirement already satisfied: MarkupSafe>=2.0 in /home/ec2-user/anaconda3/envs/python3/lib/python3.10/site-packages (from jinja2>=3.0.3->jupyter-server<3,>=1.6->jupyter-ai~=1.0) (3.0.2)\n",
      "Requirement already satisfied: ply in /home/ec2-user/anaconda3/envs/python3/lib/python3.10/site-packages (from jsonpath-ng<2,>=1.5.3->jupyter-ai-magics->jupyter-ai~=1.0) (3.11)\n",
      "Requirement already satisfied: python-dateutil>=2.8.2 in /home/ec2-user/anaconda3/envs/python3/lib/python3.10/site-packages (from jupyter-client>=7.4.4->jupyter-server<3,>=1.6->jupyter-ai~=1.0) (2.9.0)\n",
      "Requirement already satisfied: platformdirs>=2.5 in /home/ec2-user/anaconda3/envs/python3/lib/python3.10/site-packages (from jupyter-core!=5.0.*,>=4.12->jupyter-server<3,>=1.6->jupyter-ai~=1.0) (4.3.6)\n",
      "Requirement already satisfied: jsonschema>=4.18.0 in /home/ec2-user/anaconda3/envs/python3/lib/python3.10/site-packages (from jsonschema[format-nongpl]>=4.18.0->jupyter-events>=0.9.0->jupyter-server<3,>=1.6->jupyter-ai~=1.0) (4.23.0)\n",
      "Requirement already satisfied: python-json-logger>=2.0.4 in /home/ec2-user/anaconda3/envs/python3/lib/python3.10/site-packages (from jupyter-events>=0.9.0->jupyter-server<3,>=1.6->jupyter-ai~=1.0) (2.0.7)\n",
      "Requirement already satisfied: referencing in /home/ec2-user/anaconda3/envs/python3/lib/python3.10/site-packages (from jupyter-events>=0.9.0->jupyter-server<3,>=1.6->jupyter-ai~=1.0) (0.35.1)\n",
      "Requirement already satisfied: rfc3339-validator in /home/ec2-user/anaconda3/envs/python3/lib/python3.10/site-packages (from jupyter-events>=0.9.0->jupyter-server<3,>=1.6->jupyter-ai~=1.0) (0.1.4)\n",
      "Requirement already satisfied: rfc3986-validator>=0.1.1 in /home/ec2-user/anaconda3/envs/python3/lib/python3.10/site-packages (from jupyter-events>=0.9.0->jupyter-server<3,>=1.6->jupyter-ai~=1.0) (0.1.1)\n",
      "Collecting jupyter-server-fileid<1,>=0.6.0 (from jupyter-server-ydoc~=0.8.0->jupyterlab<4,>=3.5->jupyter-ai~=1.0)\n",
      "  Using cached jupyter_server_fileid-0.9.3-py3-none-any.whl.metadata (4.7 kB)\n",
      "Collecting ypy-websocket<0.9.0,>=0.8.2 (from jupyter-server-ydoc~=0.8.0->jupyterlab<4,>=3.5->jupyter-ai~=1.0)\n",
      "  Using cached ypy_websocket-0.8.4-py3-none-any.whl.metadata (2.5 kB)\n",
      "Collecting y-py<0.7.0,>=0.6.0 (from jupyter-ydoc~=0.2.4->jupyterlab<4,>=3.5->jupyter-ai~=1.0)\n",
      "  Using cached y_py-0.6.2-cp310-cp310-manylinux_2_17_x86_64.manylinux2014_x86_64.whl.metadata (5.6 kB)\n",
      "Requirement already satisfied: babel>=2.10 in /home/ec2-user/anaconda3/envs/python3/lib/python3.10/site-packages (from jupyterlab-server~=2.19->jupyterlab<4,>=3.5->jupyter-ai~=1.0) (2.14.0)\n",
      "Requirement already satisfied: json5>=0.9.0 in /home/ec2-user/anaconda3/envs/python3/lib/python3.10/site-packages (from jupyterlab-server~=2.19->jupyterlab<4,>=3.5->jupyter-ai~=1.0) (0.9.25)\n",
      "Requirement already satisfied: requests>=2.31 in /home/ec2-user/anaconda3/envs/python3/lib/python3.10/site-packages (from jupyterlab-server~=2.19->jupyterlab<4,>=3.5->jupyter-ai~=1.0) (2.32.3)\n",
      "Requirement already satisfied: SQLAlchemy<3,>=1.4 in /home/ec2-user/anaconda3/envs/python3/lib/python3.10/site-packages (from langchain<0.3.0,>=0.2.17->jupyter-ai-magics->jupyter-ai~=1.0) (2.0.36)\n",
      "Requirement already satisfied: aiohttp<4.0.0,>=3.8.3 in /home/ec2-user/anaconda3/envs/python3/lib/python3.10/site-packages (from langchain<0.3.0,>=0.2.17->jupyter-ai-magics->jupyter-ai~=1.0) (3.10.10)\n",
      "Requirement already satisfied: async-timeout<5.0.0,>=4.0.0 in /home/ec2-user/anaconda3/envs/python3/lib/python3.10/site-packages (from langchain<0.3.0,>=0.2.17->jupyter-ai-magics->jupyter-ai~=1.0) (4.0.3)\n",
      "Collecting langchain-core<0.3.0,>=0.2.43 (from langchain<0.3.0,>=0.2.17->jupyter-ai-magics->jupyter-ai~=1.0)\n",
      "  Downloading langchain_core-0.2.43-py3-none-any.whl.metadata (6.2 kB)\n",
      "Collecting langchain-text-splitters<0.3.0,>=0.2.0 (from langchain<0.3.0,>=0.2.17->jupyter-ai-magics->jupyter-ai~=1.0)\n",
      "  Downloading langchain_text_splitters-0.2.4-py3-none-any.whl.metadata (2.3 kB)\n",
      "Collecting langsmith<0.2.0,>=0.1.17 (from langchain<0.3.0,>=0.2.17->jupyter-ai-magics->jupyter-ai~=1.0)\n",
      "  Downloading langsmith-0.1.144-py3-none-any.whl.metadata (14 kB)\n",
      "Requirement already satisfied: pydantic<3,>=1 in /home/ec2-user/anaconda3/envs/python3/lib/python3.10/site-packages (from langchain<0.3.0,>=0.2.17->jupyter-ai-magics->jupyter-ai~=1.0) (2.9.2)\n",
      "Collecting tenacity!=8.4.0,<9.0.0,>=8.1.0 (from langchain<0.3.0,>=0.2.17->jupyter-ai-magics->jupyter-ai~=1.0)\n",
      "  Downloading tenacity-8.5.0-py3-none-any.whl.metadata (1.2 kB)\n",
      "Collecting dataclasses-json<0.7,>=0.5.7 (from langchain-community<0.3.0,>=0.2.19->jupyter-ai-magics->jupyter-ai~=1.0)\n",
      "  Downloading dataclasses_json-0.6.7-py3-none-any.whl.metadata (25 kB)\n",
      "Requirement already satisfied: beautifulsoup4 in /home/ec2-user/anaconda3/envs/python3/lib/python3.10/site-packages (from nbconvert>=6.4.4->jupyter-server<3,>=1.6->jupyter-ai~=1.0) (4.12.3)\n",
      "Requirement already satisfied: bleach!=5.0.0 in /home/ec2-user/anaconda3/envs/python3/lib/python3.10/site-packages (from nbconvert>=6.4.4->jupyter-server<3,>=1.6->jupyter-ai~=1.0) (6.1.0)\n",
      "Requirement already satisfied: defusedxml in /home/ec2-user/anaconda3/envs/python3/lib/python3.10/site-packages (from nbconvert>=6.4.4->jupyter-server<3,>=1.6->jupyter-ai~=1.0) (0.7.1)\n",
      "Requirement already satisfied: jupyterlab-pygments in /home/ec2-user/anaconda3/envs/python3/lib/python3.10/site-packages (from nbconvert>=6.4.4->jupyter-server<3,>=1.6->jupyter-ai~=1.0) (0.3.0)\n",
      "Requirement already satisfied: mistune<4,>=2.0.3 in /home/ec2-user/anaconda3/envs/python3/lib/python3.10/site-packages (from nbconvert>=6.4.4->jupyter-server<3,>=1.6->jupyter-ai~=1.0) (3.0.2)\n",
      "Requirement already satisfied: nbclient>=0.5.0 in /home/ec2-user/anaconda3/envs/python3/lib/python3.10/site-packages (from nbconvert>=6.4.4->jupyter-server<3,>=1.6->jupyter-ai~=1.0) (0.10.0)\n",
      "Requirement already satisfied: pandocfilters>=1.4.1 in /home/ec2-user/anaconda3/envs/python3/lib/python3.10/site-packages (from nbconvert>=6.4.4->jupyter-server<3,>=1.6->jupyter-ai~=1.0) (1.5.0)\n",
      "Requirement already satisfied: pygments>=2.4.1 in /home/ec2-user/anaconda3/envs/python3/lib/python3.10/site-packages (from nbconvert>=6.4.4->jupyter-server<3,>=1.6->jupyter-ai~=1.0) (2.18.0)\n",
      "Requirement already satisfied: tinycss2 in /home/ec2-user/anaconda3/envs/python3/lib/python3.10/site-packages (from nbconvert>=6.4.4->jupyter-server<3,>=1.6->jupyter-ai~=1.0) (1.3.0)\n",
      "Requirement already satisfied: fastjsonschema>=2.15 in /home/ec2-user/anaconda3/envs/python3/lib/python3.10/site-packages (from nbformat>=5.3.0->jupyter-server<3,>=1.6->jupyter-ai~=1.0) (2.20.0)\n",
      "Collecting jupyter-client>=7.4.4 (from jupyter-server<3,>=1.6->jupyter-ai~=1.0)\n",
      "  Using cached jupyter_client-7.4.9-py3-none-any.whl.metadata (8.5 kB)\n",
      "Collecting ipython-genutils (from notebook<7->jupyterlab<4,>=3.5->jupyter-ai~=1.0)\n",
      "  Using cached ipython_genutils-0.2.0-py2.py3-none-any.whl.metadata (755 bytes)\n",
      "Requirement already satisfied: nest-asyncio>=1.5 in /home/ec2-user/anaconda3/envs/python3/lib/python3.10/site-packages (from notebook<7->jupyterlab<4,>=3.5->jupyter-ai~=1.0) (1.6.0)\n",
      "Requirement already satisfied: ipykernel in /home/ec2-user/anaconda3/envs/python3/lib/python3.10/site-packages (from notebook<7->jupyterlab<4,>=3.5->jupyter-ai~=1.0) (6.29.5)\n",
      "Requirement already satisfied: entrypoints in /home/ec2-user/anaconda3/envs/python3/lib/python3.10/site-packages (from jupyter-client>=7.4.4->jupyter-server<3,>=1.6->jupyter-ai~=1.0) (0.4)\n",
      "Requirement already satisfied: notebook-shim>=0.2.3 in /home/ec2-user/anaconda3/envs/python3/lib/python3.10/site-packages (from nbclassic->jupyterlab<4,>=3.5->jupyter-ai~=1.0) (0.2.4)\n",
      "Requirement already satisfied: ptyprocess in /home/ec2-user/anaconda3/envs/python3/lib/python3.10/site-packages (from terminado>=0.8.3->jupyter-server<3,>=1.6->jupyter-ai~=1.0) (0.7.0)\n",
      "Requirement already satisfied: decorator in /home/ec2-user/anaconda3/envs/python3/lib/python3.10/site-packages (from ipython->jupyterlab<4,>=3.5->jupyter-ai~=1.0) (5.1.1)\n",
      "Requirement already satisfied: jedi>=0.16 in /home/ec2-user/anaconda3/envs/python3/lib/python3.10/site-packages (from ipython->jupyterlab<4,>=3.5->jupyter-ai~=1.0) (0.19.1)\n",
      "Requirement already satisfied: matplotlib-inline in /home/ec2-user/anaconda3/envs/python3/lib/python3.10/site-packages (from ipython->jupyterlab<4,>=3.5->jupyter-ai~=1.0) (0.1.7)\n",
      "Requirement already satisfied: prompt-toolkit<3.1.0,>=3.0.41 in /home/ec2-user/anaconda3/envs/python3/lib/python3.10/site-packages (from ipython->jupyterlab<4,>=3.5->jupyter-ai~=1.0) (3.0.48)\n",
      "Requirement already satisfied: stack-data in /home/ec2-user/anaconda3/envs/python3/lib/python3.10/site-packages (from ipython->jupyterlab<4,>=3.5->jupyter-ai~=1.0) (0.6.2)\n",
      "Requirement already satisfied: pexpect>4.3 in /home/ec2-user/anaconda3/envs/python3/lib/python3.10/site-packages (from ipython->jupyterlab<4,>=3.5->jupyter-ai~=1.0) (4.9.0)\n",
      "Requirement already satisfied: aiohappyeyeballs>=2.3.0 in /home/ec2-user/anaconda3/envs/python3/lib/python3.10/site-packages (from aiohttp<4.0.0,>=3.8.3->langchain<0.3.0,>=0.2.17->jupyter-ai-magics->jupyter-ai~=1.0) (2.4.3)\n",
      "Requirement already satisfied: aiosignal>=1.1.2 in /home/ec2-user/anaconda3/envs/python3/lib/python3.10/site-packages (from aiohttp<4.0.0,>=3.8.3->langchain<0.3.0,>=0.2.17->jupyter-ai-magics->jupyter-ai~=1.0) (1.3.1)\n",
      "Requirement already satisfied: attrs>=17.3.0 in /home/ec2-user/anaconda3/envs/python3/lib/python3.10/site-packages (from aiohttp<4.0.0,>=3.8.3->langchain<0.3.0,>=0.2.17->jupyter-ai-magics->jupyter-ai~=1.0) (23.2.0)\n",
      "Requirement already satisfied: frozenlist>=1.1.1 in /home/ec2-user/anaconda3/envs/python3/lib/python3.10/site-packages (from aiohttp<4.0.0,>=3.8.3->langchain<0.3.0,>=0.2.17->jupyter-ai-magics->jupyter-ai~=1.0) (1.4.1)\n",
      "Requirement already satisfied: multidict<7.0,>=4.5 in /home/ec2-user/anaconda3/envs/python3/lib/python3.10/site-packages (from aiohttp<4.0.0,>=3.8.3->langchain<0.3.0,>=0.2.17->jupyter-ai-magics->jupyter-ai~=1.0) (6.1.0)\n",
      "Requirement already satisfied: yarl<2.0,>=1.12.0 in /home/ec2-user/anaconda3/envs/python3/lib/python3.10/site-packages (from aiohttp<4.0.0,>=3.8.3->langchain<0.3.0,>=0.2.17->jupyter-ai-magics->jupyter-ai~=1.0) (1.15.5)\n",
      "Requirement already satisfied: six>=1.9.0 in /home/ec2-user/anaconda3/envs/python3/lib/python3.10/site-packages (from bleach!=5.0.0->nbconvert>=6.4.4->jupyter-server<3,>=1.6->jupyter-ai~=1.0) (1.16.0)\n",
      "Requirement already satisfied: webencodings in /home/ec2-user/anaconda3/envs/python3/lib/python3.10/site-packages (from bleach!=5.0.0->nbconvert>=6.4.4->jupyter-server<3,>=1.6->jupyter-ai~=1.0) (0.5.1)\n",
      "Collecting marshmallow<4.0.0,>=3.18.0 (from dataclasses-json<0.7,>=0.5.7->langchain-community<0.3.0,>=0.2.19->jupyter-ai-magics->jupyter-ai~=1.0)\n",
      "  Downloading marshmallow-3.23.1-py3-none-any.whl.metadata (7.5 kB)\n",
      "Collecting typing-inspect<1,>=0.4.0 (from dataclasses-json<0.7,>=0.5.7->langchain-community<0.3.0,>=0.2.19->jupyter-ai-magics->jupyter-ai~=1.0)\n",
      "  Downloading typing_inspect-0.9.0-py3-none-any.whl.metadata (1.5 kB)\n",
      "Requirement already satisfied: parso<0.9.0,>=0.8.3 in /home/ec2-user/anaconda3/envs/python3/lib/python3.10/site-packages (from jedi>=0.16->ipython->jupyterlab<4,>=3.5->jupyter-ai~=1.0) (0.8.4)\n",
      "Requirement already satisfied: jsonschema-specifications>=2023.03.6 in /home/ec2-user/anaconda3/envs/python3/lib/python3.10/site-packages (from jsonschema>=4.18.0->jsonschema[format-nongpl]>=4.18.0->jupyter-events>=0.9.0->jupyter-server<3,>=1.6->jupyter-ai~=1.0) (2024.10.1)\n",
      "Requirement already satisfied: rpds-py>=0.7.1 in /home/ec2-user/anaconda3/envs/python3/lib/python3.10/site-packages (from jsonschema>=4.18.0->jsonschema[format-nongpl]>=4.18.0->jupyter-events>=0.9.0->jupyter-server<3,>=1.6->jupyter-ai~=1.0) (0.20.0)\n",
      "Requirement already satisfied: fqdn in /home/ec2-user/anaconda3/envs/python3/lib/python3.10/site-packages (from jsonschema[format-nongpl]>=4.18.0->jupyter-events>=0.9.0->jupyter-server<3,>=1.6->jupyter-ai~=1.0) (1.5.1)\n",
      "Requirement already satisfied: isoduration in /home/ec2-user/anaconda3/envs/python3/lib/python3.10/site-packages (from jsonschema[format-nongpl]>=4.18.0->jupyter-events>=0.9.0->jupyter-server<3,>=1.6->jupyter-ai~=1.0) (20.11.0)\n",
      "Requirement already satisfied: jsonpointer>1.13 in /home/ec2-user/anaconda3/envs/python3/lib/python3.10/site-packages (from jsonschema[format-nongpl]>=4.18.0->jupyter-events>=0.9.0->jupyter-server<3,>=1.6->jupyter-ai~=1.0) (3.0.0)\n",
      "Requirement already satisfied: uri-template in /home/ec2-user/anaconda3/envs/python3/lib/python3.10/site-packages (from jsonschema[format-nongpl]>=4.18.0->jupyter-events>=0.9.0->jupyter-server<3,>=1.6->jupyter-ai~=1.0) (1.3.0)\n",
      "Requirement already satisfied: webcolors>=24.6.0 in /home/ec2-user/anaconda3/envs/python3/lib/python3.10/site-packages (from jsonschema[format-nongpl]>=4.18.0->jupyter-events>=0.9.0->jupyter-server<3,>=1.6->jupyter-ai~=1.0) (24.8.0)\n",
      "Collecting jsonpatch<2.0,>=1.33 (from langchain-core<0.3.0,>=0.2.43->langchain<0.3.0,>=0.2.17->jupyter-ai-magics->jupyter-ai~=1.0)\n",
      "  Downloading jsonpatch-1.33-py2.py3-none-any.whl.metadata (3.0 kB)\n",
      "Requirement already satisfied: httpx<1,>=0.23.0 in /home/ec2-user/anaconda3/envs/python3/lib/python3.10/site-packages (from langsmith<0.2.0,>=0.1.17->langchain<0.3.0,>=0.2.17->jupyter-ai-magics->jupyter-ai~=1.0) (0.27.2)\n",
      "Collecting orjson<4.0.0,>=3.9.14 (from langsmith<0.2.0,>=0.1.17->langchain<0.3.0,>=0.2.17->jupyter-ai-magics->jupyter-ai~=1.0)\n",
      "  Downloading orjson-3.10.11-cp310-cp310-manylinux_2_17_x86_64.manylinux2014_x86_64.whl.metadata (50 kB)\n",
      "Collecting requests-toolbelt<2.0.0,>=1.0.0 (from langsmith<0.2.0,>=0.1.17->langchain<0.3.0,>=0.2.17->jupyter-ai-magics->jupyter-ai~=1.0)\n",
      "  Downloading requests_toolbelt-1.0.0-py2.py3-none-any.whl.metadata (14 kB)\n",
      "Requirement already satisfied: wcwidth in /home/ec2-user/anaconda3/envs/python3/lib/python3.10/site-packages (from prompt-toolkit<3.1.0,>=3.0.41->ipython->jupyterlab<4,>=3.5->jupyter-ai~=1.0) (0.2.13)\n",
      "Requirement already satisfied: annotated-types>=0.6.0 in /home/ec2-user/anaconda3/envs/python3/lib/python3.10/site-packages (from pydantic<3,>=1->langchain<0.3.0,>=0.2.17->jupyter-ai-magics->jupyter-ai~=1.0) (0.7.0)\n",
      "Requirement already satisfied: pydantic-core==2.23.4 in /home/ec2-user/anaconda3/envs/python3/lib/python3.10/site-packages (from pydantic<3,>=1->langchain<0.3.0,>=0.2.17->jupyter-ai-magics->jupyter-ai~=1.0) (2.23.4)\n",
      "Requirement already satisfied: charset-normalizer<4,>=2 in /home/ec2-user/anaconda3/envs/python3/lib/python3.10/site-packages (from requests>=2.31->jupyterlab-server~=2.19->jupyterlab<4,>=3.5->jupyter-ai~=1.0) (3.4.0)\n",
      "Requirement already satisfied: certifi>=2017.4.17 in /home/ec2-user/anaconda3/envs/python3/lib/python3.10/site-packages (from requests>=2.31->jupyterlab-server~=2.19->jupyterlab<4,>=3.5->jupyter-ai~=1.0) (2024.8.30)\n",
      "Requirement already satisfied: greenlet!=0.4.17 in /home/ec2-user/anaconda3/envs/python3/lib/python3.10/site-packages (from SQLAlchemy<3,>=1.4->langchain<0.3.0,>=0.2.17->jupyter-ai-magics->jupyter-ai~=1.0) (3.1.1)\n",
      "Collecting aiofiles<23,>=22.1.0 (from ypy-websocket<0.9.0,>=0.8.2->jupyter-server-ydoc~=0.8.0->jupyterlab<4,>=3.5->jupyter-ai~=1.0)\n",
      "  Using cached aiofiles-22.1.0-py3-none-any.whl.metadata (8.0 kB)\n",
      "Requirement already satisfied: cffi>=1.0.1 in /home/ec2-user/anaconda3/envs/python3/lib/python3.10/site-packages (from argon2-cffi-bindings->argon2-cffi>=21.1->jupyter-server<3,>=1.6->jupyter-ai~=1.0) (1.17.1)\n",
      "Requirement already satisfied: soupsieve>1.2 in /home/ec2-user/anaconda3/envs/python3/lib/python3.10/site-packages (from beautifulsoup4->nbconvert>=6.4.4->jupyter-server<3,>=1.6->jupyter-ai~=1.0) (2.5)\n",
      "Requirement already satisfied: comm>=0.1.1 in /home/ec2-user/anaconda3/envs/python3/lib/python3.10/site-packages (from ipykernel->notebook<7->jupyterlab<4,>=3.5->jupyter-ai~=1.0) (0.2.2)\n",
      "Requirement already satisfied: debugpy>=1.6.5 in /home/ec2-user/anaconda3/envs/python3/lib/python3.10/site-packages (from ipykernel->notebook<7->jupyterlab<4,>=3.5->jupyter-ai~=1.0) (1.8.7)\n",
      "Requirement already satisfied: executing>=1.2.0 in /home/ec2-user/anaconda3/envs/python3/lib/python3.10/site-packages (from stack-data->ipython->jupyterlab<4,>=3.5->jupyter-ai~=1.0) (2.1.0)\n",
      "Requirement already satisfied: asttokens>=2.1.0 in /home/ec2-user/anaconda3/envs/python3/lib/python3.10/site-packages (from stack-data->ipython->jupyterlab<4,>=3.5->jupyter-ai~=1.0) (2.4.1)\n",
      "Requirement already satisfied: pure-eval in /home/ec2-user/anaconda3/envs/python3/lib/python3.10/site-packages (from stack-data->ipython->jupyterlab<4,>=3.5->jupyter-ai~=1.0) (0.2.3)\n",
      "Requirement already satisfied: pycparser in /home/ec2-user/anaconda3/envs/python3/lib/python3.10/site-packages (from cffi>=1.0.1->argon2-cffi-bindings->argon2-cffi>=21.1->jupyter-server<3,>=1.6->jupyter-ai~=1.0) (2.22)\n",
      "Requirement already satisfied: httpcore==1.* in /home/ec2-user/anaconda3/envs/python3/lib/python3.10/site-packages (from httpx<1,>=0.23.0->langsmith<0.2.0,>=0.1.17->langchain<0.3.0,>=0.2.17->jupyter-ai-magics->jupyter-ai~=1.0) (1.0.6)\n",
      "Requirement already satisfied: h11<0.15,>=0.13 in /home/ec2-user/anaconda3/envs/python3/lib/python3.10/site-packages (from httpcore==1.*->httpx<1,>=0.23.0->langsmith<0.2.0,>=0.1.17->langchain<0.3.0,>=0.2.17->jupyter-ai-magics->jupyter-ai~=1.0) (0.14.0)\n",
      "Requirement already satisfied: mypy-extensions>=0.3.0 in /home/ec2-user/anaconda3/envs/python3/lib/python3.10/site-packages (from typing-inspect<1,>=0.4.0->dataclasses-json<0.7,>=0.5.7->langchain-community<0.3.0,>=0.2.19->jupyter-ai-magics->jupyter-ai~=1.0) (1.0.0)\n",
      "Requirement already satisfied: propcache>=0.2.0 in /home/ec2-user/anaconda3/envs/python3/lib/python3.10/site-packages (from yarl<2.0,>=1.12.0->aiohttp<4.0.0,>=3.8.3->langchain<0.3.0,>=0.2.17->jupyter-ai-magics->jupyter-ai~=1.0) (0.2.0)\n",
      "Requirement already satisfied: arrow>=0.15.0 in /home/ec2-user/anaconda3/envs/python3/lib/python3.10/site-packages (from isoduration->jsonschema[format-nongpl]>=4.18.0->jupyter-events>=0.9.0->jupyter-server<3,>=1.6->jupyter-ai~=1.0) (1.3.0)\n",
      "Requirement already satisfied: types-python-dateutil>=2.8.10 in /home/ec2-user/anaconda3/envs/python3/lib/python3.10/site-packages (from arrow>=0.15.0->isoduration->jsonschema[format-nongpl]>=4.18.0->jupyter-events>=0.9.0->jupyter-server<3,>=1.6->jupyter-ai~=1.0) (2.9.0.20241003)\n",
      "Downloading jupyter_ai-1.15.0-py3-none-any.whl (917 kB)\n",
      "\u001b[2K   \u001b[90m━━━━━━━━━━━━━━━━━━━━━━━━━━━━━━━━━━━━━━━━\u001b[0m \u001b[32m917.9/917.9 kB\u001b[0m \u001b[31m53.0 MB/s\u001b[0m eta \u001b[36m0:00:00\u001b[0m\n",
      "\u001b[?25hUsing cached aiosqlite-0.20.0-py3-none-any.whl (15 kB)\n",
      "Downloading deepmerge-2.0-py3-none-any.whl (13 kB)\n",
      "Using cached jupyterlab-3.6.8-py3-none-any.whl (8.9 MB)\n",
      "Downloading faiss_cpu-1.9.0.post1-cp310-cp310-manylinux_2_17_x86_64.manylinux2014_x86_64.whl (27.5 MB)\n",
      "\u001b[2K   \u001b[90m━━━━━━━━━━━━━━━━━━━━━━━━━━━━━━━━━━━━━━━━\u001b[0m \u001b[32m27.5/27.5 MB\u001b[0m \u001b[31m121.6 MB/s\u001b[0m eta \u001b[36m0:00:00\u001b[0m00:01\u001b[0m\n",
      "\u001b[?25hDownloading jupyter_ai_magics-2.28.2-py3-none-any.whl (39 kB)\n",
      "Downloading jsonpath_ng-1.7.0-py3-none-any.whl (30 kB)\n",
      "Using cached jupyter_server_ydoc-0.8.0-py3-none-any.whl (11 kB)\n",
      "Using cached jupyter_ydoc-0.2.5-py3-none-any.whl (6.2 kB)\n",
      "Downloading langchain-0.2.17-py3-none-any.whl (1.0 MB)\n",
      "\u001b[2K   \u001b[90m━━━━━━━━━━━━━━━━━━━━━━━━━━━━━━━━━━━━━━━━\u001b[0m \u001b[32m1.0/1.0 MB\u001b[0m \u001b[31m85.2 MB/s\u001b[0m eta \u001b[36m0:00:00\u001b[0m\n",
      "\u001b[?25hDownloading langchain_community-0.2.19-py3-none-any.whl (2.3 MB)\n",
      "\u001b[2K   \u001b[90m━━━━━━━━━━━━━━━━━━━━━━━━━━━━━━━━━━━━━━━━\u001b[0m \u001b[32m2.3/2.3 MB\u001b[0m \u001b[31m112.6 MB/s\u001b[0m eta \u001b[36m0:00:00\u001b[0m\n",
      "\u001b[?25hUsing cached notebook-6.5.7-py3-none-any.whl (529 kB)\n",
      "Using cached jupyter_client-7.4.9-py3-none-any.whl (133 kB)\n",
      "Using cached nbclassic-1.1.0-py3-none-any.whl (10.0 MB)\n",
      "Using cached packaging-24.2-py3-none-any.whl (65 kB)\n",
      "Downloading dataclasses_json-0.6.7-py3-none-any.whl (28 kB)\n",
      "Using cached jupyter_server_fileid-0.9.3-py3-none-any.whl (16 kB)\n",
      "Downloading langchain_core-0.2.43-py3-none-any.whl (397 kB)\n",
      "Downloading langchain_text_splitters-0.2.4-py3-none-any.whl (25 kB)\n",
      "Downloading langsmith-0.1.144-py3-none-any.whl (310 kB)\n",
      "Downloading tenacity-8.5.0-py3-none-any.whl (28 kB)\n",
      "Using cached y_py-0.6.2-cp310-cp310-manylinux_2_17_x86_64.manylinux2014_x86_64.whl (1.7 MB)\n",
      "Using cached ypy_websocket-0.8.4-py3-none-any.whl (10 kB)\n",
      "Using cached ipython_genutils-0.2.0-py2.py3-none-any.whl (26 kB)\n",
      "Using cached aiofiles-22.1.0-py3-none-any.whl (14 kB)\n",
      "Downloading jsonpatch-1.33-py2.py3-none-any.whl (12 kB)\n",
      "Downloading marshmallow-3.23.1-py3-none-any.whl (49 kB)\n",
      "Downloading orjson-3.10.11-cp310-cp310-manylinux_2_17_x86_64.manylinux2014_x86_64.whl (142 kB)\n",
      "Downloading requests_toolbelt-1.0.0-py2.py3-none-any.whl (54 kB)\n",
      "Downloading typing_inspect-0.9.0-py3-none-any.whl (8.8 kB)\n",
      "Installing collected packages: y-py, ipython-genutils, typing-inspect, tenacity, packaging, orjson, jupyter-ydoc, jsonpath-ng, jsonpatch, deepmerge, aiosqlite, aiofiles, ypy-websocket, requests-toolbelt, marshmallow, jupyter-client, faiss-cpu, langsmith, dataclasses-json, langchain-core, langchain-text-splitters, langchain, langchain-community, jupyter-server-fileid, jupyter-ai-magics, nbclassic, jupyter-server-ydoc, notebook, jupyterlab, jupyter-ai\n",
      "  Attempting uninstall: tenacity\n",
      "    Found existing installation: tenacity 9.0.0\n",
      "    Uninstalling tenacity-9.0.0:\n",
      "      Successfully uninstalled tenacity-9.0.0\n",
      "  Attempting uninstall: packaging\n",
      "    Found existing installation: packaging 21.3\n",
      "    Uninstalling packaging-21.3:\n",
      "      Successfully uninstalled packaging-21.3\n",
      "  Attempting uninstall: jupyter-client\n",
      "    Found existing installation: jupyter_client 8.6.3\n",
      "    Uninstalling jupyter_client-8.6.3:\n",
      "      Successfully uninstalled jupyter_client-8.6.3\n",
      "  Attempting uninstall: notebook\n",
      "    Found existing installation: notebook 7.2.2\n",
      "    Uninstalling notebook-7.2.2:\n",
      "      Successfully uninstalled notebook-7.2.2\n",
      "  Attempting uninstall: jupyterlab\n",
      "    Found existing installation: jupyterlab 4.2.5\n",
      "    Uninstalling jupyterlab-4.2.5:\n",
      "      Successfully uninstalled jupyterlab-4.2.5\n",
      "\u001b[31mERROR: pip's dependency resolver does not currently take into account all the packages that are installed. This behaviour is the source of the following dependency conflicts.\n",
      "sphinx 8.1.3 requires docutils<0.22,>=0.20, but you have docutils 0.16 which is incompatible.\u001b[0m\u001b[31m\n",
      "\u001b[0mSuccessfully installed aiofiles-22.1.0 aiosqlite-0.20.0 dataclasses-json-0.6.7 deepmerge-2.0 faiss-cpu-1.9.0.post1 ipython-genutils-0.2.0 jsonpatch-1.33 jsonpath-ng-1.7.0 jupyter-ai-1.15.0 jupyter-ai-magics-2.28.2 jupyter-client-7.4.9 jupyter-server-fileid-0.9.3 jupyter-server-ydoc-0.8.0 jupyter-ydoc-0.2.5 jupyterlab-3.6.8 langchain-0.2.17 langchain-community-0.2.19 langchain-core-0.2.43 langchain-text-splitters-0.2.4 langsmith-0.1.144 marshmallow-3.23.1 nbclassic-1.1.0 notebook-6.5.7 orjson-3.10.11 packaging-24.2 requests-toolbelt-1.0.0 tenacity-8.5.0 typing-inspect-0.9.0 y-py-0.6.2 ypy-websocket-0.8.4\n",
      "Note: you may need to restart the kernel to use updated packages.\n"
     ]
    }
   ],
   "source": [
    "pip install jupyter-ai~=1.0"
   ]
  },
  {
   "cell_type": "code",
   "execution_count": 5,
   "id": "4dcae270-43f8-404d-bd96-186a65527f9e",
   "metadata": {
    "tags": []
   },
   "outputs": [
    {
     "name": "stdout",
     "output_type": "stream",
     "text": [
      "Requirement already satisfied: jupyter-ai[all] in /home/ec2-user/anaconda3/envs/python3/lib/python3.10/site-packages (1.15.0)\n",
      "Requirement already satisfied: aiosqlite>=0.18 in /home/ec2-user/anaconda3/envs/python3/lib/python3.10/site-packages (from jupyter-ai[all]) (0.20.0)\n",
      "Requirement already satisfied: dask[distributed] in /home/ec2-user/anaconda3/envs/python3/lib/python3.10/site-packages (from jupyter-ai[all]) (2024.2.1)\n",
      "Requirement already satisfied: deepmerge>=1.0 in /home/ec2-user/anaconda3/envs/python3/lib/python3.10/site-packages (from jupyter-ai[all]) (2.0)\n",
      "Requirement already satisfied: faiss-cpu in /home/ec2-user/anaconda3/envs/python3/lib/python3.10/site-packages (from jupyter-ai[all]) (1.9.0.post1)\n",
      "Requirement already satisfied: importlib-metadata>=5.2.0 in /home/ec2-user/anaconda3/envs/python3/lib/python3.10/site-packages (from jupyter-ai[all]) (6.11.0)\n",
      "Requirement already satisfied: jupyter-ai-magics in /home/ec2-user/anaconda3/envs/python3/lib/python3.10/site-packages (from jupyter-ai[all]) (2.28.2)\n",
      "Requirement already satisfied: jupyter-server<3,>=1.6 in /home/ec2-user/anaconda3/envs/python3/lib/python3.10/site-packages (from jupyter-ai[all]) (2.14.2)\n",
      "Requirement already satisfied: jupyterlab<4,>=3.5 in /home/ec2-user/anaconda3/envs/python3/lib/python3.10/site-packages (from jupyter-ai[all]) (3.6.8)\n",
      "Requirement already satisfied: traitlets>=5.0 in /home/ec2-user/anaconda3/envs/python3/lib/python3.10/site-packages (from jupyter-ai[all]) (5.14.3)\n",
      "Requirement already satisfied: typing-extensions>=4.5.0 in /home/ec2-user/anaconda3/envs/python3/lib/python3.10/site-packages (from jupyter-ai[all]) (4.12.2)\n",
      "Collecting pypdf (from jupyter-ai[all])\n",
      "  Downloading pypdf-5.1.0-py3-none-any.whl.metadata (7.2 kB)\n",
      "Requirement already satisfied: zipp>=0.5 in /home/ec2-user/anaconda3/envs/python3/lib/python3.10/site-packages (from importlib-metadata>=5.2.0->jupyter-ai[all]) (3.20.2)\n",
      "Requirement already satisfied: anyio>=3.1.0 in /home/ec2-user/anaconda3/envs/python3/lib/python3.10/site-packages (from jupyter-server<3,>=1.6->jupyter-ai[all]) (4.6.2.post1)\n",
      "Requirement already satisfied: argon2-cffi>=21.1 in /home/ec2-user/anaconda3/envs/python3/lib/python3.10/site-packages (from jupyter-server<3,>=1.6->jupyter-ai[all]) (23.1.0)\n",
      "Requirement already satisfied: jinja2>=3.0.3 in /home/ec2-user/anaconda3/envs/python3/lib/python3.10/site-packages (from jupyter-server<3,>=1.6->jupyter-ai[all]) (3.1.4)\n",
      "Requirement already satisfied: jupyter-client>=7.4.4 in /home/ec2-user/anaconda3/envs/python3/lib/python3.10/site-packages (from jupyter-server<3,>=1.6->jupyter-ai[all]) (7.4.9)\n",
      "Requirement already satisfied: jupyter-core!=5.0.*,>=4.12 in /home/ec2-user/anaconda3/envs/python3/lib/python3.10/site-packages (from jupyter-server<3,>=1.6->jupyter-ai[all]) (5.7.2)\n",
      "Requirement already satisfied: jupyter-events>=0.9.0 in /home/ec2-user/anaconda3/envs/python3/lib/python3.10/site-packages (from jupyter-server<3,>=1.6->jupyter-ai[all]) (0.10.0)\n",
      "Requirement already satisfied: jupyter-server-terminals>=0.4.4 in /home/ec2-user/anaconda3/envs/python3/lib/python3.10/site-packages (from jupyter-server<3,>=1.6->jupyter-ai[all]) (0.5.3)\n",
      "Requirement already satisfied: nbconvert>=6.4.4 in /home/ec2-user/anaconda3/envs/python3/lib/python3.10/site-packages (from jupyter-server<3,>=1.6->jupyter-ai[all]) (7.16.4)\n",
      "Requirement already satisfied: nbformat>=5.3.0 in /home/ec2-user/anaconda3/envs/python3/lib/python3.10/site-packages (from jupyter-server<3,>=1.6->jupyter-ai[all]) (5.10.4)\n",
      "Requirement already satisfied: overrides>=5.0 in /home/ec2-user/anaconda3/envs/python3/lib/python3.10/site-packages (from jupyter-server<3,>=1.6->jupyter-ai[all]) (7.7.0)\n",
      "Requirement already satisfied: packaging>=22.0 in /home/ec2-user/anaconda3/envs/python3/lib/python3.10/site-packages (from jupyter-server<3,>=1.6->jupyter-ai[all]) (24.2)\n",
      "Requirement already satisfied: prometheus-client>=0.9 in /home/ec2-user/anaconda3/envs/python3/lib/python3.10/site-packages (from jupyter-server<3,>=1.6->jupyter-ai[all]) (0.21.0)\n",
      "Requirement already satisfied: pyzmq>=24 in /home/ec2-user/anaconda3/envs/python3/lib/python3.10/site-packages (from jupyter-server<3,>=1.6->jupyter-ai[all]) (26.2.0)\n",
      "Requirement already satisfied: send2trash>=1.8.2 in /home/ec2-user/anaconda3/envs/python3/lib/python3.10/site-packages (from jupyter-server<3,>=1.6->jupyter-ai[all]) (1.8.3)\n",
      "Requirement already satisfied: terminado>=0.8.3 in /home/ec2-user/anaconda3/envs/python3/lib/python3.10/site-packages (from jupyter-server<3,>=1.6->jupyter-ai[all]) (0.18.1)\n",
      "Requirement already satisfied: tornado>=6.2.0 in /home/ec2-user/anaconda3/envs/python3/lib/python3.10/site-packages (from jupyter-server<3,>=1.6->jupyter-ai[all]) (6.4.1)\n",
      "Requirement already satisfied: websocket-client>=1.7 in /home/ec2-user/anaconda3/envs/python3/lib/python3.10/site-packages (from jupyter-server<3,>=1.6->jupyter-ai[all]) (1.8.0)\n",
      "Requirement already satisfied: ipython in /home/ec2-user/anaconda3/envs/python3/lib/python3.10/site-packages (from jupyterlab<4,>=3.5->jupyter-ai[all]) (8.28.0)\n",
      "Requirement already satisfied: jupyterlab-server~=2.19 in /home/ec2-user/anaconda3/envs/python3/lib/python3.10/site-packages (from jupyterlab<4,>=3.5->jupyter-ai[all]) (2.27.3)\n",
      "Requirement already satisfied: jupyter-ydoc~=0.2.4 in /home/ec2-user/anaconda3/envs/python3/lib/python3.10/site-packages (from jupyterlab<4,>=3.5->jupyter-ai[all]) (0.2.5)\n",
      "Requirement already satisfied: jupyter-server-ydoc~=0.8.0 in /home/ec2-user/anaconda3/envs/python3/lib/python3.10/site-packages (from jupyterlab<4,>=3.5->jupyter-ai[all]) (0.8.0)\n",
      "Requirement already satisfied: nbclassic in /home/ec2-user/anaconda3/envs/python3/lib/python3.10/site-packages (from jupyterlab<4,>=3.5->jupyter-ai[all]) (1.1.0)\n",
      "Requirement already satisfied: notebook<7 in /home/ec2-user/anaconda3/envs/python3/lib/python3.10/site-packages (from jupyterlab<4,>=3.5->jupyter-ai[all]) (6.5.7)\n",
      "Requirement already satisfied: tomli in /home/ec2-user/anaconda3/envs/python3/lib/python3.10/site-packages (from jupyterlab<4,>=3.5->jupyter-ai[all]) (2.0.2)\n",
      "Requirement already satisfied: click>=8.1 in /home/ec2-user/anaconda3/envs/python3/lib/python3.10/site-packages (from dask[distributed]->jupyter-ai[all]) (8.1.7)\n",
      "Requirement already satisfied: cloudpickle>=1.5.0 in /home/ec2-user/anaconda3/envs/python3/lib/python3.10/site-packages (from dask[distributed]->jupyter-ai[all]) (2.2.1)\n",
      "Requirement already satisfied: fsspec>=2021.09.0 in /home/ec2-user/anaconda3/envs/python3/lib/python3.10/site-packages (from dask[distributed]->jupyter-ai[all]) (2024.10.0)\n",
      "Requirement already satisfied: partd>=1.2.0 in /home/ec2-user/anaconda3/envs/python3/lib/python3.10/site-packages (from dask[distributed]->jupyter-ai[all]) (1.4.2)\n",
      "Requirement already satisfied: pyyaml>=5.3.1 in /home/ec2-user/anaconda3/envs/python3/lib/python3.10/site-packages (from dask[distributed]->jupyter-ai[all]) (6.0.2)\n",
      "Requirement already satisfied: toolz>=0.10.0 in /home/ec2-user/anaconda3/envs/python3/lib/python3.10/site-packages (from dask[distributed]->jupyter-ai[all]) (1.0.0)\n",
      "Requirement already satisfied: distributed==2024.2.1 in /home/ec2-user/anaconda3/envs/python3/lib/python3.10/site-packages (from dask[distributed]->jupyter-ai[all]) (2024.2.1)\n",
      "Requirement already satisfied: locket>=1.0.0 in /home/ec2-user/anaconda3/envs/python3/lib/python3.10/site-packages (from distributed==2024.2.1->dask[distributed]->jupyter-ai[all]) (1.0.0)\n",
      "Requirement already satisfied: msgpack>=1.0.0 in /home/ec2-user/anaconda3/envs/python3/lib/python3.10/site-packages (from distributed==2024.2.1->dask[distributed]->jupyter-ai[all]) (1.1.0)\n",
      "Requirement already satisfied: psutil>=5.7.2 in /home/ec2-user/anaconda3/envs/python3/lib/python3.10/site-packages (from distributed==2024.2.1->dask[distributed]->jupyter-ai[all]) (6.0.0)\n",
      "Requirement already satisfied: sortedcontainers>=2.0.5 in /home/ec2-user/anaconda3/envs/python3/lib/python3.10/site-packages (from distributed==2024.2.1->dask[distributed]->jupyter-ai[all]) (2.4.0)\n",
      "Requirement already satisfied: tblib>=1.6.0 in /home/ec2-user/anaconda3/envs/python3/lib/python3.10/site-packages (from distributed==2024.2.1->dask[distributed]->jupyter-ai[all]) (3.0.0)\n",
      "Requirement already satisfied: urllib3>=1.24.3 in /home/ec2-user/anaconda3/envs/python3/lib/python3.10/site-packages (from distributed==2024.2.1->dask[distributed]->jupyter-ai[all]) (2.2.3)\n",
      "Requirement already satisfied: zict>=3.0.0 in /home/ec2-user/anaconda3/envs/python3/lib/python3.10/site-packages (from distributed==2024.2.1->dask[distributed]->jupyter-ai[all]) (3.0.0)\n",
      "Requirement already satisfied: numpy<3.0,>=1.25.0 in /home/ec2-user/anaconda3/envs/python3/lib/python3.10/site-packages (from faiss-cpu->jupyter-ai[all]) (1.26.4)\n",
      "Requirement already satisfied: jsonpath-ng<2,>=1.5.3 in /home/ec2-user/anaconda3/envs/python3/lib/python3.10/site-packages (from jupyter-ai-magics->jupyter-ai[all]) (1.7.0)\n",
      "Requirement already satisfied: langchain-community<0.3.0,>=0.2.19 in /home/ec2-user/anaconda3/envs/python3/lib/python3.10/site-packages (from jupyter-ai-magics->jupyter-ai[all]) (0.2.19)\n",
      "Requirement already satisfied: langchain<0.3.0,>=0.2.17 in /home/ec2-user/anaconda3/envs/python3/lib/python3.10/site-packages (from jupyter-ai-magics->jupyter-ai[all]) (0.2.17)\n",
      "Collecting ai21 (from jupyter-ai-magics[all]; extra == \"all\"->jupyter-ai[all])\n",
      "  Downloading ai21-3.0.0-py3-none-any.whl.metadata (21 kB)\n",
      "Requirement already satisfied: boto3 in /home/ec2-user/anaconda3/envs/python3/lib/python3.10/site-packages (from jupyter-ai-magics[all]; extra == \"all\"->jupyter-ai[all]) (1.35.63)\n",
      "Collecting gpt4all (from jupyter-ai-magics[all]; extra == \"all\"->jupyter-ai[all])\n",
      "  Downloading gpt4all-2.8.2-py3-none-manylinux1_x86_64.whl.metadata (4.8 kB)\n",
      "Collecting huggingface-hub (from jupyter-ai-magics[all]; extra == \"all\"->jupyter-ai[all])\n",
      "  Downloading huggingface_hub-0.26.2-py3-none-any.whl.metadata (13 kB)\n",
      "Requirement already satisfied: ipywidgets in /home/ec2-user/anaconda3/envs/python3/lib/python3.10/site-packages (from jupyter-ai-magics[all]; extra == \"all\"->jupyter-ai[all]) (8.1.5)\n",
      "Collecting langchain-anthropic (from jupyter-ai-magics[all]; extra == \"all\"->jupyter-ai[all])\n",
      "  Downloading langchain_anthropic-0.3.0-py3-none-any.whl.metadata (2.3 kB)\n",
      "Collecting langchain-aws (from jupyter-ai-magics[all]; extra == \"all\"->jupyter-ai[all])\n",
      "  Downloading langchain_aws-0.2.7-py3-none-any.whl.metadata (3.2 kB)\n",
      "Collecting langchain-cohere (from jupyter-ai-magics[all]; extra == \"all\"->jupyter-ai[all])\n",
      "  Downloading langchain_cohere-0.3.2-py3-none-any.whl.metadata (6.7 kB)\n",
      "Collecting langchain-google-genai (from jupyter-ai-magics[all]; extra == \"all\"->jupyter-ai[all])\n",
      "  Downloading langchain_google_genai-2.0.5-py3-none-any.whl.metadata (3.6 kB)\n",
      "Collecting langchain-mistralai (from jupyter-ai-magics[all]; extra == \"all\"->jupyter-ai[all])\n",
      "  Downloading langchain_mistralai-0.2.2-py3-none-any.whl.metadata (2.4 kB)\n",
      "Collecting langchain-nvidia-ai-endpoints (from jupyter-ai-magics[all]; extra == \"all\"->jupyter-ai[all])\n",
      "  Downloading langchain_nvidia_ai_endpoints-0.3.5-py3-none-any.whl.metadata (11 kB)\n",
      "Collecting langchain-ollama (from jupyter-ai-magics[all]; extra == \"all\"->jupyter-ai[all])\n",
      "  Downloading langchain_ollama-0.2.0-py3-none-any.whl.metadata (1.8 kB)\n",
      "Collecting langchain-openai (from jupyter-ai-magics[all]; extra == \"all\"->jupyter-ai[all])\n",
      "  Downloading langchain_openai-0.2.9-py3-none-any.whl.metadata (2.6 kB)\n",
      "Requirement already satisfied: pillow in /home/ec2-user/anaconda3/envs/python3/lib/python3.10/site-packages (from jupyter-ai-magics[all]; extra == \"all\"->jupyter-ai[all]) (11.0.0)\n",
      "Collecting qianfan (from jupyter-ai-magics[all]; extra == \"all\"->jupyter-ai[all])\n",
      "  Downloading qianfan-0.4.12.1-py3-none-any.whl.metadata (10 kB)\n",
      "Collecting together (from jupyter-ai-magics[all]; extra == \"all\"->jupyter-ai[all])\n",
      "  Downloading together-1.3.5-py3-none-any.whl.metadata (11 kB)\n",
      "Requirement already satisfied: idna>=2.8 in /home/ec2-user/anaconda3/envs/python3/lib/python3.10/site-packages (from anyio>=3.1.0->jupyter-server<3,>=1.6->jupyter-ai[all]) (3.10)\n",
      "Requirement already satisfied: sniffio>=1.1 in /home/ec2-user/anaconda3/envs/python3/lib/python3.10/site-packages (from anyio>=3.1.0->jupyter-server<3,>=1.6->jupyter-ai[all]) (1.3.1)\n",
      "Requirement already satisfied: exceptiongroup>=1.0.2 in /home/ec2-user/anaconda3/envs/python3/lib/python3.10/site-packages (from anyio>=3.1.0->jupyter-server<3,>=1.6->jupyter-ai[all]) (1.2.2)\n",
      "Requirement already satisfied: argon2-cffi-bindings in /home/ec2-user/anaconda3/envs/python3/lib/python3.10/site-packages (from argon2-cffi>=21.1->jupyter-server<3,>=1.6->jupyter-ai[all]) (21.2.0)\n",
      "Requirement already satisfied: MarkupSafe>=2.0 in /home/ec2-user/anaconda3/envs/python3/lib/python3.10/site-packages (from jinja2>=3.0.3->jupyter-server<3,>=1.6->jupyter-ai[all]) (3.0.2)\n",
      "Requirement already satisfied: ply in /home/ec2-user/anaconda3/envs/python3/lib/python3.10/site-packages (from jsonpath-ng<2,>=1.5.3->jupyter-ai-magics->jupyter-ai[all]) (3.11)\n",
      "Requirement already satisfied: entrypoints in /home/ec2-user/anaconda3/envs/python3/lib/python3.10/site-packages (from jupyter-client>=7.4.4->jupyter-server<3,>=1.6->jupyter-ai[all]) (0.4)\n",
      "Requirement already satisfied: nest-asyncio>=1.5.4 in /home/ec2-user/anaconda3/envs/python3/lib/python3.10/site-packages (from jupyter-client>=7.4.4->jupyter-server<3,>=1.6->jupyter-ai[all]) (1.6.0)\n",
      "Requirement already satisfied: python-dateutil>=2.8.2 in /home/ec2-user/anaconda3/envs/python3/lib/python3.10/site-packages (from jupyter-client>=7.4.4->jupyter-server<3,>=1.6->jupyter-ai[all]) (2.9.0)\n",
      "Requirement already satisfied: platformdirs>=2.5 in /home/ec2-user/anaconda3/envs/python3/lib/python3.10/site-packages (from jupyter-core!=5.0.*,>=4.12->jupyter-server<3,>=1.6->jupyter-ai[all]) (4.3.6)\n",
      "Requirement already satisfied: jsonschema>=4.18.0 in /home/ec2-user/anaconda3/envs/python3/lib/python3.10/site-packages (from jsonschema[format-nongpl]>=4.18.0->jupyter-events>=0.9.0->jupyter-server<3,>=1.6->jupyter-ai[all]) (4.23.0)\n",
      "Requirement already satisfied: python-json-logger>=2.0.4 in /home/ec2-user/anaconda3/envs/python3/lib/python3.10/site-packages (from jupyter-events>=0.9.0->jupyter-server<3,>=1.6->jupyter-ai[all]) (2.0.7)\n",
      "Requirement already satisfied: referencing in /home/ec2-user/anaconda3/envs/python3/lib/python3.10/site-packages (from jupyter-events>=0.9.0->jupyter-server<3,>=1.6->jupyter-ai[all]) (0.35.1)\n",
      "Requirement already satisfied: rfc3339-validator in /home/ec2-user/anaconda3/envs/python3/lib/python3.10/site-packages (from jupyter-events>=0.9.0->jupyter-server<3,>=1.6->jupyter-ai[all]) (0.1.4)\n",
      "Requirement already satisfied: rfc3986-validator>=0.1.1 in /home/ec2-user/anaconda3/envs/python3/lib/python3.10/site-packages (from jupyter-events>=0.9.0->jupyter-server<3,>=1.6->jupyter-ai[all]) (0.1.1)\n",
      "Requirement already satisfied: jupyter-server-fileid<1,>=0.6.0 in /home/ec2-user/anaconda3/envs/python3/lib/python3.10/site-packages (from jupyter-server-ydoc~=0.8.0->jupyterlab<4,>=3.5->jupyter-ai[all]) (0.9.3)\n",
      "Requirement already satisfied: ypy-websocket<0.9.0,>=0.8.2 in /home/ec2-user/anaconda3/envs/python3/lib/python3.10/site-packages (from jupyter-server-ydoc~=0.8.0->jupyterlab<4,>=3.5->jupyter-ai[all]) (0.8.4)\n",
      "Requirement already satisfied: y-py<0.7.0,>=0.6.0 in /home/ec2-user/anaconda3/envs/python3/lib/python3.10/site-packages (from jupyter-ydoc~=0.2.4->jupyterlab<4,>=3.5->jupyter-ai[all]) (0.6.2)\n",
      "Requirement already satisfied: babel>=2.10 in /home/ec2-user/anaconda3/envs/python3/lib/python3.10/site-packages (from jupyterlab-server~=2.19->jupyterlab<4,>=3.5->jupyter-ai[all]) (2.14.0)\n",
      "Requirement already satisfied: json5>=0.9.0 in /home/ec2-user/anaconda3/envs/python3/lib/python3.10/site-packages (from jupyterlab-server~=2.19->jupyterlab<4,>=3.5->jupyter-ai[all]) (0.9.25)\n",
      "Requirement already satisfied: requests>=2.31 in /home/ec2-user/anaconda3/envs/python3/lib/python3.10/site-packages (from jupyterlab-server~=2.19->jupyterlab<4,>=3.5->jupyter-ai[all]) (2.32.3)\n",
      "Requirement already satisfied: SQLAlchemy<3,>=1.4 in /home/ec2-user/anaconda3/envs/python3/lib/python3.10/site-packages (from langchain<0.3.0,>=0.2.17->jupyter-ai-magics->jupyter-ai[all]) (2.0.36)\n",
      "Requirement already satisfied: aiohttp<4.0.0,>=3.8.3 in /home/ec2-user/anaconda3/envs/python3/lib/python3.10/site-packages (from langchain<0.3.0,>=0.2.17->jupyter-ai-magics->jupyter-ai[all]) (3.10.10)\n",
      "Requirement already satisfied: async-timeout<5.0.0,>=4.0.0 in /home/ec2-user/anaconda3/envs/python3/lib/python3.10/site-packages (from langchain<0.3.0,>=0.2.17->jupyter-ai-magics->jupyter-ai[all]) (4.0.3)\n",
      "Requirement already satisfied: langchain-core<0.3.0,>=0.2.43 in /home/ec2-user/anaconda3/envs/python3/lib/python3.10/site-packages (from langchain<0.3.0,>=0.2.17->jupyter-ai-magics->jupyter-ai[all]) (0.2.43)\n",
      "Requirement already satisfied: langchain-text-splitters<0.3.0,>=0.2.0 in /home/ec2-user/anaconda3/envs/python3/lib/python3.10/site-packages (from langchain<0.3.0,>=0.2.17->jupyter-ai-magics->jupyter-ai[all]) (0.2.4)\n",
      "Requirement already satisfied: langsmith<0.2.0,>=0.1.17 in /home/ec2-user/anaconda3/envs/python3/lib/python3.10/site-packages (from langchain<0.3.0,>=0.2.17->jupyter-ai-magics->jupyter-ai[all]) (0.1.144)\n",
      "Requirement already satisfied: pydantic<3,>=1 in /home/ec2-user/anaconda3/envs/python3/lib/python3.10/site-packages (from langchain<0.3.0,>=0.2.17->jupyter-ai-magics->jupyter-ai[all]) (2.9.2)\n",
      "Requirement already satisfied: tenacity!=8.4.0,<9.0.0,>=8.1.0 in /home/ec2-user/anaconda3/envs/python3/lib/python3.10/site-packages (from langchain<0.3.0,>=0.2.17->jupyter-ai-magics->jupyter-ai[all]) (8.5.0)\n",
      "Requirement already satisfied: dataclasses-json<0.7,>=0.5.7 in /home/ec2-user/anaconda3/envs/python3/lib/python3.10/site-packages (from langchain-community<0.3.0,>=0.2.19->jupyter-ai-magics->jupyter-ai[all]) (0.6.7)\n",
      "Requirement already satisfied: beautifulsoup4 in /home/ec2-user/anaconda3/envs/python3/lib/python3.10/site-packages (from nbconvert>=6.4.4->jupyter-server<3,>=1.6->jupyter-ai[all]) (4.12.3)\n",
      "Requirement already satisfied: bleach!=5.0.0 in /home/ec2-user/anaconda3/envs/python3/lib/python3.10/site-packages (from nbconvert>=6.4.4->jupyter-server<3,>=1.6->jupyter-ai[all]) (6.1.0)\n",
      "Requirement already satisfied: defusedxml in /home/ec2-user/anaconda3/envs/python3/lib/python3.10/site-packages (from nbconvert>=6.4.4->jupyter-server<3,>=1.6->jupyter-ai[all]) (0.7.1)\n",
      "Requirement already satisfied: jupyterlab-pygments in /home/ec2-user/anaconda3/envs/python3/lib/python3.10/site-packages (from nbconvert>=6.4.4->jupyter-server<3,>=1.6->jupyter-ai[all]) (0.3.0)\n",
      "Requirement already satisfied: mistune<4,>=2.0.3 in /home/ec2-user/anaconda3/envs/python3/lib/python3.10/site-packages (from nbconvert>=6.4.4->jupyter-server<3,>=1.6->jupyter-ai[all]) (3.0.2)\n",
      "Requirement already satisfied: nbclient>=0.5.0 in /home/ec2-user/anaconda3/envs/python3/lib/python3.10/site-packages (from nbconvert>=6.4.4->jupyter-server<3,>=1.6->jupyter-ai[all]) (0.10.0)\n",
      "Requirement already satisfied: pandocfilters>=1.4.1 in /home/ec2-user/anaconda3/envs/python3/lib/python3.10/site-packages (from nbconvert>=6.4.4->jupyter-server<3,>=1.6->jupyter-ai[all]) (1.5.0)\n",
      "Requirement already satisfied: pygments>=2.4.1 in /home/ec2-user/anaconda3/envs/python3/lib/python3.10/site-packages (from nbconvert>=6.4.4->jupyter-server<3,>=1.6->jupyter-ai[all]) (2.18.0)\n",
      "Requirement already satisfied: tinycss2 in /home/ec2-user/anaconda3/envs/python3/lib/python3.10/site-packages (from nbconvert>=6.4.4->jupyter-server<3,>=1.6->jupyter-ai[all]) (1.3.0)\n",
      "Requirement already satisfied: fastjsonschema>=2.15 in /home/ec2-user/anaconda3/envs/python3/lib/python3.10/site-packages (from nbformat>=5.3.0->jupyter-server<3,>=1.6->jupyter-ai[all]) (2.20.0)\n",
      "Requirement already satisfied: ipython-genutils in /home/ec2-user/anaconda3/envs/python3/lib/python3.10/site-packages (from notebook<7->jupyterlab<4,>=3.5->jupyter-ai[all]) (0.2.0)\n",
      "Requirement already satisfied: ipykernel in /home/ec2-user/anaconda3/envs/python3/lib/python3.10/site-packages (from notebook<7->jupyterlab<4,>=3.5->jupyter-ai[all]) (6.29.5)\n",
      "Requirement already satisfied: notebook-shim>=0.2.3 in /home/ec2-user/anaconda3/envs/python3/lib/python3.10/site-packages (from nbclassic->jupyterlab<4,>=3.5->jupyter-ai[all]) (0.2.4)\n",
      "Requirement already satisfied: ptyprocess in /home/ec2-user/anaconda3/envs/python3/lib/python3.10/site-packages (from terminado>=0.8.3->jupyter-server<3,>=1.6->jupyter-ai[all]) (0.7.0)\n",
      "Collecting ai21-tokenizer<1.0.0,>=0.12.0 (from ai21->jupyter-ai-magics[all]; extra == \"all\"->jupyter-ai[all])\n",
      "  Downloading ai21_tokenizer-0.12.0-py3-none-any.whl.metadata (6.5 kB)\n",
      "Requirement already satisfied: httpx<0.28.0,>=0.27.0 in /home/ec2-user/anaconda3/envs/python3/lib/python3.10/site-packages (from ai21->jupyter-ai-magics[all]; extra == \"all\"->jupyter-ai[all]) (0.27.2)\n",
      "Requirement already satisfied: botocore<1.36.0,>=1.35.63 in /home/ec2-user/anaconda3/envs/python3/lib/python3.10/site-packages (from boto3->jupyter-ai-magics[all]; extra == \"all\"->jupyter-ai[all]) (1.35.63)\n",
      "Requirement already satisfied: jmespath<2.0.0,>=0.7.1 in /home/ec2-user/anaconda3/envs/python3/lib/python3.10/site-packages (from boto3->jupyter-ai-magics[all]; extra == \"all\"->jupyter-ai[all]) (1.0.1)\n",
      "Requirement already satisfied: s3transfer<0.11.0,>=0.10.0 in /home/ec2-user/anaconda3/envs/python3/lib/python3.10/site-packages (from boto3->jupyter-ai-magics[all]; extra == \"all\"->jupyter-ai[all]) (0.10.3)\n",
      "Requirement already satisfied: tqdm in /home/ec2-user/anaconda3/envs/python3/lib/python3.10/site-packages (from gpt4all->jupyter-ai-magics[all]; extra == \"all\"->jupyter-ai[all]) (4.66.5)\n",
      "Requirement already satisfied: filelock in /home/ec2-user/anaconda3/envs/python3/lib/python3.10/site-packages (from huggingface-hub->jupyter-ai-magics[all]; extra == \"all\"->jupyter-ai[all]) (3.16.1)\n",
      "Requirement already satisfied: decorator in /home/ec2-user/anaconda3/envs/python3/lib/python3.10/site-packages (from ipython->jupyterlab<4,>=3.5->jupyter-ai[all]) (5.1.1)\n",
      "Requirement already satisfied: jedi>=0.16 in /home/ec2-user/anaconda3/envs/python3/lib/python3.10/site-packages (from ipython->jupyterlab<4,>=3.5->jupyter-ai[all]) (0.19.1)\n",
      "Requirement already satisfied: matplotlib-inline in /home/ec2-user/anaconda3/envs/python3/lib/python3.10/site-packages (from ipython->jupyterlab<4,>=3.5->jupyter-ai[all]) (0.1.7)\n",
      "Requirement already satisfied: prompt-toolkit<3.1.0,>=3.0.41 in /home/ec2-user/anaconda3/envs/python3/lib/python3.10/site-packages (from ipython->jupyterlab<4,>=3.5->jupyter-ai[all]) (3.0.48)\n",
      "Requirement already satisfied: stack-data in /home/ec2-user/anaconda3/envs/python3/lib/python3.10/site-packages (from ipython->jupyterlab<4,>=3.5->jupyter-ai[all]) (0.6.2)\n",
      "Requirement already satisfied: pexpect>4.3 in /home/ec2-user/anaconda3/envs/python3/lib/python3.10/site-packages (from ipython->jupyterlab<4,>=3.5->jupyter-ai[all]) (4.9.0)\n",
      "Requirement already satisfied: comm>=0.1.3 in /home/ec2-user/anaconda3/envs/python3/lib/python3.10/site-packages (from ipywidgets->jupyter-ai-magics[all]; extra == \"all\"->jupyter-ai[all]) (0.2.2)\n",
      "Requirement already satisfied: widgetsnbextension~=4.0.12 in /home/ec2-user/anaconda3/envs/python3/lib/python3.10/site-packages (from ipywidgets->jupyter-ai-magics[all]; extra == \"all\"->jupyter-ai[all]) (4.0.13)\n",
      "Requirement already satisfied: jupyterlab-widgets~=3.0.12 in /home/ec2-user/anaconda3/envs/python3/lib/python3.10/site-packages (from ipywidgets->jupyter-ai-magics[all]; extra == \"all\"->jupyter-ai[all]) (3.0.13)\n",
      "Collecting anthropic<1,>=0.39.0 (from langchain-anthropic->jupyter-ai-magics[all]; extra == \"all\"->jupyter-ai[all])\n",
      "  Downloading anthropic-0.39.0-py3-none-any.whl.metadata (22 kB)\n",
      "INFO: pip is looking at multiple versions of langchain-anthropic to determine which version is compatible with other requirements. This could take a while.\n",
      "Collecting langchain-anthropic (from jupyter-ai-magics[all]; extra == \"all\"->jupyter-ai[all])\n",
      "  Downloading langchain_anthropic-0.2.4-py3-none-any.whl.metadata (2.3 kB)\n",
      "  Downloading langchain_anthropic-0.2.3-py3-none-any.whl.metadata (2.3 kB)\n",
      "  Downloading langchain_anthropic-0.2.1-py3-none-any.whl.metadata (2.3 kB)\n",
      "  Downloading langchain_anthropic-0.2.0-py3-none-any.whl.metadata (2.3 kB)\n",
      "  Downloading langchain_anthropic-0.1.23-py3-none-any.whl.metadata (2.2 kB)\n",
      "INFO: pip is looking at multiple versions of langchain-aws to determine which version is compatible with other requirements. This could take a while.\n",
      "Collecting langchain-aws (from jupyter-ai-magics[all]; extra == \"all\"->jupyter-ai[all])\n",
      "  Downloading langchain_aws-0.2.6-py3-none-any.whl.metadata (3.2 kB)\n",
      "  Downloading langchain_aws-0.2.5-py3-none-any.whl.metadata (3.2 kB)\n",
      "  Downloading langchain_aws-0.2.4-py3-none-any.whl.metadata (3.2 kB)\n",
      "  Downloading langchain_aws-0.2.3-py3-none-any.whl.metadata (3.2 kB)\n",
      "  Downloading langchain_aws-0.2.2-py3-none-any.whl.metadata (3.2 kB)\n",
      "  Downloading langchain_aws-0.2.1-py3-none-any.whl.metadata (3.2 kB)\n",
      "  Downloading langchain_aws-0.2.0-py3-none-any.whl.metadata (3.2 kB)\n",
      "Collecting boto3 (from jupyter-ai-magics[all]; extra == \"all\"->jupyter-ai[all])\n",
      "  Downloading boto3-1.34.162-py3-none-any.whl.metadata (6.6 kB)\n",
      "INFO: pip is still looking at multiple versions of langchain-aws to determine which version is compatible with other requirements. This could take a while.\n",
      "Collecting langchain-aws (from jupyter-ai-magics[all]; extra == \"all\"->jupyter-ai[all])\n",
      "  Downloading langchain_aws-0.1.18-py3-none-any.whl.metadata (3.2 kB)\n",
      "Collecting botocore<1.35.0,>=1.34.162 (from boto3->jupyter-ai-magics[all]; extra == \"all\"->jupyter-ai[all])\n",
      "  Downloading botocore-1.34.162-py3-none-any.whl.metadata (5.7 kB)\n",
      "Collecting cohere<6.0,>=5.5.6 (from langchain-cohere->jupyter-ai-magics[all]; extra == \"all\"->jupyter-ai[all])\n",
      "  Downloading cohere-5.11.4-py3-none-any.whl.metadata (3.5 kB)\n",
      "INFO: pip is looking at multiple versions of langchain-cohere to determine which version is compatible with other requirements. This could take a while.\n",
      "Collecting langchain-cohere (from jupyter-ai-magics[all]; extra == \"all\"->jupyter-ai[all])\n",
      "  Downloading langchain_cohere-0.3.1-py3-none-any.whl.metadata (6.7 kB)\n",
      "  Downloading langchain_cohere-0.3.0-py3-none-any.whl.metadata (6.7 kB)\n",
      "  Downloading langchain_cohere-0.2.4-py3-none-any.whl.metadata (6.6 kB)\n",
      "Collecting langchain-experimental>=0.0.6 (from langchain-cohere->jupyter-ai-magics[all]; extra == \"all\"->jupyter-ai[all])\n",
      "  Downloading langchain_experimental-0.3.3-py3-none-any.whl.metadata (1.7 kB)\n",
      "Requirement already satisfied: pandas>=1.4.3 in /home/ec2-user/anaconda3/envs/python3/lib/python3.10/site-packages (from langchain-cohere->jupyter-ai-magics[all]; extra == \"all\"->jupyter-ai[all]) (1.5.3)\n",
      "Requirement already satisfied: tabulate<0.10.0,>=0.9.0 in /home/ec2-user/anaconda3/envs/python3/lib/python3.10/site-packages (from langchain-cohere->jupyter-ai-magics[all]; extra == \"all\"->jupyter-ai[all]) (0.9.0)\n",
      "Collecting google-generativeai<0.9.0,>=0.8.0 (from langchain-google-genai->jupyter-ai-magics[all]; extra == \"all\"->jupyter-ai[all])\n",
      "  Downloading google_generativeai-0.8.3-py3-none-any.whl.metadata (3.9 kB)\n",
      "INFO: pip is looking at multiple versions of langchain-google-genai to determine which version is compatible with other requirements. This could take a while.\n",
      "Collecting langchain-google-genai (from jupyter-ai-magics[all]; extra == \"all\"->jupyter-ai[all])\n",
      "  Downloading langchain_google_genai-2.0.4-py3-none-any.whl.metadata (3.8 kB)\n",
      "  Downloading langchain_google_genai-2.0.3-py3-none-any.whl.metadata (3.9 kB)\n",
      "  Downloading langchain_google_genai-2.0.2-py3-none-any.whl.metadata (3.9 kB)\n",
      "  Downloading langchain_google_genai-2.0.1-py3-none-any.whl.metadata (3.9 kB)\n",
      "  Downloading langchain_google_genai-2.0.0-py3-none-any.whl.metadata (3.9 kB)\n",
      "Collecting google-generativeai<0.8.0,>=0.7.0 (from langchain-google-genai->jupyter-ai-magics[all]; extra == \"all\"->jupyter-ai[all])\n",
      "  Downloading google_generativeai-0.7.2-py3-none-any.whl.metadata (4.0 kB)\n",
      "Collecting langchain-google-genai (from jupyter-ai-magics[all]; extra == \"all\"->jupyter-ai[all])\n",
      "  Downloading langchain_google_genai-1.0.10-py3-none-any.whl.metadata (3.8 kB)\n",
      "Collecting httpx-sse<1,>=0.3.1 (from langchain-mistralai->jupyter-ai-magics[all]; extra == \"all\"->jupyter-ai[all])\n",
      "  Downloading httpx_sse-0.4.0-py3-none-any.whl.metadata (9.0 kB)\n",
      "INFO: pip is looking at multiple versions of langchain-mistralai to determine which version is compatible with other requirements. This could take a while.\n",
      "Collecting langchain-mistralai (from jupyter-ai-magics[all]; extra == \"all\"->jupyter-ai[all])\n",
      "  Downloading langchain_mistralai-0.2.1-py3-none-any.whl.metadata (2.4 kB)\n",
      "  Downloading langchain_mistralai-0.2.0-py3-none-any.whl.metadata (2.4 kB)\n",
      "  Downloading langchain_mistralai-0.1.13-py3-none-any.whl.metadata (2.4 kB)\n",
      "Collecting tokenizers<1,>=0.15.1 (from langchain-mistralai->jupyter-ai-magics[all]; extra == \"all\"->jupyter-ai[all])\n",
      "  Downloading tokenizers-0.20.3-cp310-cp310-manylinux_2_17_x86_64.manylinux2014_x86_64.whl.metadata (6.7 kB)\n",
      "INFO: pip is looking at multiple versions of langchain-nvidia-ai-endpoints to determine which version is compatible with other requirements. This could take a while.\n",
      "Collecting langchain-nvidia-ai-endpoints (from jupyter-ai-magics[all]; extra == \"all\"->jupyter-ai[all])\n",
      "  Downloading langchain_nvidia_ai_endpoints-0.3.4-py3-none-any.whl.metadata (11 kB)\n",
      "  Downloading langchain_nvidia_ai_endpoints-0.3.3-py3-none-any.whl.metadata (9.9 kB)\n",
      "  Downloading langchain_nvidia_ai_endpoints-0.3.2-py3-none-any.whl.metadata (9.9 kB)\n",
      "  Downloading langchain_nvidia_ai_endpoints-0.3.1-py3-none-any.whl.metadata (9.9 kB)\n",
      "  Downloading langchain_nvidia_ai_endpoints-0.3.0-py3-none-any.whl.metadata (9.9 kB)\n",
      "  Downloading langchain_nvidia_ai_endpoints-0.2.2-py3-none-any.whl.metadata (9.9 kB)\n",
      "Collecting pillow (from jupyter-ai-magics[all]; extra == \"all\"->jupyter-ai[all])\n",
      "  Downloading pillow-10.4.0-cp310-cp310-manylinux_2_17_x86_64.manylinux2014_x86_64.whl.metadata (9.2 kB)\n",
      "INFO: pip is looking at multiple versions of langchain-ollama to determine which version is compatible with other requirements. This could take a while.\n",
      "Collecting langchain-ollama (from jupyter-ai-magics[all]; extra == \"all\"->jupyter-ai[all])\n",
      "  Downloading langchain_ollama-0.1.3-py3-none-any.whl.metadata (1.8 kB)\n",
      "Collecting ollama<1,>=0.3.0 (from langchain-ollama->jupyter-ai-magics[all]; extra == \"all\"->jupyter-ai[all])\n",
      "  Downloading ollama-0.4.0-py3-none-any.whl.metadata (4.8 kB)\n",
      "INFO: pip is looking at multiple versions of langchain-openai to determine which version is compatible with other requirements. This could take a while.\n",
      "Collecting langchain-openai (from jupyter-ai-magics[all]; extra == \"all\"->jupyter-ai[all])\n",
      "  Downloading langchain_openai-0.2.8-py3-none-any.whl.metadata (2.6 kB)\n",
      "  Downloading langchain_openai-0.2.7-py3-none-any.whl.metadata (2.6 kB)\n",
      "  Downloading langchain_openai-0.2.6-py3-none-any.whl.metadata (2.6 kB)\n",
      "  Downloading langchain_openai-0.2.5-py3-none-any.whl.metadata (2.6 kB)\n",
      "  Downloading langchain_openai-0.2.4-py3-none-any.whl.metadata (2.6 kB)\n",
      "  Downloading langchain_openai-0.2.3-py3-none-any.whl.metadata (2.6 kB)\n",
      "  Downloading langchain_openai-0.2.2-py3-none-any.whl.metadata (2.6 kB)\n",
      "INFO: pip is still looking at multiple versions of langchain-openai to determine which version is compatible with other requirements. This could take a while.\n",
      "  Downloading langchain_openai-0.2.1-py3-none-any.whl.metadata (2.6 kB)\n",
      "  Downloading langchain_openai-0.2.0-py3-none-any.whl.metadata (2.6 kB)\n",
      "  Downloading langchain_openai-0.1.25-py3-none-any.whl.metadata (2.6 kB)\n",
      "Requirement already satisfied: openai<2.0.0,>=1.40.0 in /home/ec2-user/anaconda3/envs/python3/lib/python3.10/site-packages (from langchain-openai->jupyter-ai-magics[all]; extra == \"all\"->jupyter-ai[all]) (1.55.0)\n",
      "Collecting tiktoken<1,>=0.7 (from langchain-openai->jupyter-ai-magics[all]; extra == \"all\"->jupyter-ai[all])\n",
      "  Downloading tiktoken-0.8.0-cp310-cp310-manylinux_2_17_x86_64.manylinux2014_x86_64.whl.metadata (6.6 kB)\n",
      "Collecting aiolimiter>=1.1.0 (from qianfan->jupyter-ai-magics[all]; extra == \"all\"->jupyter-ai[all])\n",
      "  Downloading aiolimiter-1.1.0-py3-none-any.whl.metadata (4.5 kB)\n",
      "Collecting bce-python-sdk>=0.8.79 (from qianfan->jupyter-ai-magics[all]; extra == \"all\"->jupyter-ai[all])\n",
      "  Downloading bce_python_sdk-0.9.23-py3-none-any.whl.metadata (319 bytes)\n",
      "Requirement already satisfied: cachetools>=5.0.0 in /home/ec2-user/anaconda3/envs/python3/lib/python3.10/site-packages (from qianfan->jupyter-ai-magics[all]; extra == \"all\"->jupyter-ai[all]) (5.5.0)\n",
      "Collecting diskcache>=5.6.3 (from qianfan->jupyter-ai-magics[all]; extra == \"all\"->jupyter-ai[all])\n",
      "  Downloading diskcache-5.6.3-py3-none-any.whl.metadata (20 kB)\n",
      "Requirement already satisfied: multiprocess>=0.70.12 in /home/ec2-user/anaconda3/envs/python3/lib/python3.10/site-packages (from qianfan->jupyter-ai-magics[all]; extra == \"all\"->jupyter-ai[all]) (0.70.17)\n",
      "Collecting python-dotenv>=1.0 (from qianfan->jupyter-ai-magics[all]; extra == \"all\"->jupyter-ai[all])\n",
      "  Downloading python_dotenv-1.0.1-py3-none-any.whl.metadata (23 kB)\n",
      "Requirement already satisfied: rich>=13.0.0 in /home/ec2-user/anaconda3/envs/python3/lib/python3.10/site-packages (from qianfan->jupyter-ai-magics[all]; extra == \"all\"->jupyter-ai[all]) (13.9.3)\n",
      "Collecting typer>=0.9.0 (from qianfan->jupyter-ai-magics[all]; extra == \"all\"->jupyter-ai[all])\n",
      "  Downloading typer-0.13.1-py3-none-any.whl.metadata (15 kB)\n",
      "Collecting eval-type-backport<0.3.0,>=0.1.3 (from together->jupyter-ai-magics[all]; extra == \"all\"->jupyter-ai[all])\n",
      "  Downloading eval_type_backport-0.2.0-py3-none-any.whl.metadata (2.2 kB)\n",
      "Requirement already satisfied: pyarrow>=10.0.1 in /home/ec2-user/anaconda3/envs/python3/lib/python3.10/site-packages (from together->jupyter-ai-magics[all]; extra == \"all\"->jupyter-ai[all]) (17.0.0)\n",
      "Collecting sentencepiece<1.0.0,>=0.2.0 (from ai21-tokenizer<1.0.0,>=0.12.0->ai21->jupyter-ai-magics[all]; extra == \"all\"->jupyter-ai[all])\n",
      "  Downloading sentencepiece-0.2.0-cp310-cp310-manylinux_2_17_x86_64.manylinux2014_x86_64.whl.metadata (7.7 kB)\n",
      "Requirement already satisfied: aiohappyeyeballs>=2.3.0 in /home/ec2-user/anaconda3/envs/python3/lib/python3.10/site-packages (from aiohttp<4.0.0,>=3.8.3->langchain<0.3.0,>=0.2.17->jupyter-ai-magics->jupyter-ai[all]) (2.4.3)\n",
      "Requirement already satisfied: aiosignal>=1.1.2 in /home/ec2-user/anaconda3/envs/python3/lib/python3.10/site-packages (from aiohttp<4.0.0,>=3.8.3->langchain<0.3.0,>=0.2.17->jupyter-ai-magics->jupyter-ai[all]) (1.3.1)\n",
      "Requirement already satisfied: attrs>=17.3.0 in /home/ec2-user/anaconda3/envs/python3/lib/python3.10/site-packages (from aiohttp<4.0.0,>=3.8.3->langchain<0.3.0,>=0.2.17->jupyter-ai-magics->jupyter-ai[all]) (23.2.0)\n",
      "Requirement already satisfied: frozenlist>=1.1.1 in /home/ec2-user/anaconda3/envs/python3/lib/python3.10/site-packages (from aiohttp<4.0.0,>=3.8.3->langchain<0.3.0,>=0.2.17->jupyter-ai-magics->jupyter-ai[all]) (1.4.1)\n",
      "Requirement already satisfied: multidict<7.0,>=4.5 in /home/ec2-user/anaconda3/envs/python3/lib/python3.10/site-packages (from aiohttp<4.0.0,>=3.8.3->langchain<0.3.0,>=0.2.17->jupyter-ai-magics->jupyter-ai[all]) (6.1.0)\n",
      "Requirement already satisfied: yarl<2.0,>=1.12.0 in /home/ec2-user/anaconda3/envs/python3/lib/python3.10/site-packages (from aiohttp<4.0.0,>=3.8.3->langchain<0.3.0,>=0.2.17->jupyter-ai-magics->jupyter-ai[all]) (1.15.5)\n",
      "Requirement already satisfied: distro<2,>=1.7.0 in /home/ec2-user/anaconda3/envs/python3/lib/python3.10/site-packages (from anthropic<1,>=0.39.0->langchain-anthropic->jupyter-ai-magics[all]; extra == \"all\"->jupyter-ai[all]) (1.9.0)\n",
      "Requirement already satisfied: jiter<1,>=0.4.0 in /home/ec2-user/anaconda3/envs/python3/lib/python3.10/site-packages (from anthropic<1,>=0.39.0->langchain-anthropic->jupyter-ai-magics[all]; extra == \"all\"->jupyter-ai[all]) (0.7.1)\n",
      "Requirement already satisfied: pycryptodome>=3.8.0 in /home/ec2-user/anaconda3/envs/python3/lib/python3.10/site-packages (from bce-python-sdk>=0.8.79->qianfan->jupyter-ai-magics[all]; extra == \"all\"->jupyter-ai[all]) (3.20.0)\n",
      "Requirement already satisfied: future>=0.6.0 in /home/ec2-user/anaconda3/envs/python3/lib/python3.10/site-packages (from bce-python-sdk>=0.8.79->qianfan->jupyter-ai-magics[all]; extra == \"all\"->jupyter-ai[all]) (1.0.0)\n",
      "Requirement already satisfied: six>=1.4.0 in /home/ec2-user/anaconda3/envs/python3/lib/python3.10/site-packages (from bce-python-sdk>=0.8.79->qianfan->jupyter-ai-magics[all]; extra == \"all\"->jupyter-ai[all]) (1.16.0)\n",
      "Requirement already satisfied: webencodings in /home/ec2-user/anaconda3/envs/python3/lib/python3.10/site-packages (from bleach!=5.0.0->nbconvert>=6.4.4->jupyter-server<3,>=1.6->jupyter-ai[all]) (0.5.1)\n",
      "Collecting fastavro<2.0.0,>=1.9.4 (from cohere<6.0,>=5.5.6->langchain-cohere->jupyter-ai-magics[all]; extra == \"all\"->jupyter-ai[all])\n",
      "  Downloading fastavro-1.9.7-cp310-cp310-manylinux_2_17_x86_64.manylinux2014_x86_64.whl.metadata (5.5 kB)\n",
      "Collecting parameterized<0.10.0,>=0.9.0 (from cohere<6.0,>=5.5.6->langchain-cohere->jupyter-ai-magics[all]; extra == \"all\"->jupyter-ai[all])\n",
      "  Downloading parameterized-0.9.0-py2.py3-none-any.whl.metadata (18 kB)\n",
      "Requirement already satisfied: pydantic-core<3.0.0,>=2.18.2 in /home/ec2-user/anaconda3/envs/python3/lib/python3.10/site-packages (from cohere<6.0,>=5.5.6->langchain-cohere->jupyter-ai-magics[all]; extra == \"all\"->jupyter-ai[all]) (2.23.4)\n",
      "Collecting types-requests<3.0.0,>=2.0.0 (from cohere<6.0,>=5.5.6->langchain-cohere->jupyter-ai-magics[all]; extra == \"all\"->jupyter-ai[all])\n",
      "  Downloading types_requests-2.32.0.20241016-py3-none-any.whl.metadata (1.9 kB)\n",
      "Requirement already satisfied: marshmallow<4.0.0,>=3.18.0 in /home/ec2-user/anaconda3/envs/python3/lib/python3.10/site-packages (from dataclasses-json<0.7,>=0.5.7->langchain-community<0.3.0,>=0.2.19->jupyter-ai-magics->jupyter-ai[all]) (3.23.1)\n",
      "Requirement already satisfied: typing-inspect<1,>=0.4.0 in /home/ec2-user/anaconda3/envs/python3/lib/python3.10/site-packages (from dataclasses-json<0.7,>=0.5.7->langchain-community<0.3.0,>=0.2.19->jupyter-ai-magics->jupyter-ai[all]) (0.9.0)\n",
      "Collecting google-ai-generativelanguage==0.6.6 (from google-generativeai<0.8.0,>=0.7.0->langchain-google-genai->jupyter-ai-magics[all]; extra == \"all\"->jupyter-ai[all])\n",
      "  Downloading google_ai_generativelanguage-0.6.6-py3-none-any.whl.metadata (5.6 kB)\n",
      "Collecting google-api-core (from google-generativeai<0.8.0,>=0.7.0->langchain-google-genai->jupyter-ai-magics[all]; extra == \"all\"->jupyter-ai[all])\n",
      "  Downloading google_api_core-2.23.0-py3-none-any.whl.metadata (3.0 kB)\n",
      "Collecting google-api-python-client (from google-generativeai<0.8.0,>=0.7.0->langchain-google-genai->jupyter-ai-magics[all]; extra == \"all\"->jupyter-ai[all])\n",
      "  Downloading google_api_python_client-2.154.0-py2.py3-none-any.whl.metadata (6.7 kB)\n",
      "Requirement already satisfied: google-auth>=2.15.0 in /home/ec2-user/anaconda3/envs/python3/lib/python3.10/site-packages (from google-generativeai<0.8.0,>=0.7.0->langchain-google-genai->jupyter-ai-magics[all]; extra == \"all\"->jupyter-ai[all]) (2.36.0)\n",
      "Requirement already satisfied: protobuf in /home/ec2-user/anaconda3/envs/python3/lib/python3.10/site-packages (from google-generativeai<0.8.0,>=0.7.0->langchain-google-genai->jupyter-ai-magics[all]; extra == \"all\"->jupyter-ai[all]) (4.25.5)\n",
      "Collecting proto-plus<2.0.0dev,>=1.22.3 (from google-ai-generativelanguage==0.6.6->google-generativeai<0.8.0,>=0.7.0->langchain-google-genai->jupyter-ai-magics[all]; extra == \"all\"->jupyter-ai[all])\n",
      "  Downloading proto_plus-1.25.0-py3-none-any.whl.metadata (2.2 kB)\n",
      "Requirement already satisfied: certifi in /home/ec2-user/anaconda3/envs/python3/lib/python3.10/site-packages (from httpx<0.28.0,>=0.27.0->ai21->jupyter-ai-magics[all]; extra == \"all\"->jupyter-ai[all]) (2024.8.30)\n",
      "Requirement already satisfied: httpcore==1.* in /home/ec2-user/anaconda3/envs/python3/lib/python3.10/site-packages (from httpx<0.28.0,>=0.27.0->ai21->jupyter-ai-magics[all]; extra == \"all\"->jupyter-ai[all]) (1.0.6)\n",
      "Requirement already satisfied: h11<0.15,>=0.13 in /home/ec2-user/anaconda3/envs/python3/lib/python3.10/site-packages (from httpcore==1.*->httpx<0.28.0,>=0.27.0->ai21->jupyter-ai-magics[all]; extra == \"all\"->jupyter-ai[all]) (0.14.0)\n",
      "Requirement already satisfied: parso<0.9.0,>=0.8.3 in /home/ec2-user/anaconda3/envs/python3/lib/python3.10/site-packages (from jedi>=0.16->ipython->jupyterlab<4,>=3.5->jupyter-ai[all]) (0.8.4)\n",
      "Requirement already satisfied: jsonschema-specifications>=2023.03.6 in /home/ec2-user/anaconda3/envs/python3/lib/python3.10/site-packages (from jsonschema>=4.18.0->jsonschema[format-nongpl]>=4.18.0->jupyter-events>=0.9.0->jupyter-server<3,>=1.6->jupyter-ai[all]) (2024.10.1)\n",
      "Requirement already satisfied: rpds-py>=0.7.1 in /home/ec2-user/anaconda3/envs/python3/lib/python3.10/site-packages (from jsonschema>=4.18.0->jsonschema[format-nongpl]>=4.18.0->jupyter-events>=0.9.0->jupyter-server<3,>=1.6->jupyter-ai[all]) (0.20.0)\n",
      "Requirement already satisfied: fqdn in /home/ec2-user/anaconda3/envs/python3/lib/python3.10/site-packages (from jsonschema[format-nongpl]>=4.18.0->jupyter-events>=0.9.0->jupyter-server<3,>=1.6->jupyter-ai[all]) (1.5.1)\n",
      "Requirement already satisfied: isoduration in /home/ec2-user/anaconda3/envs/python3/lib/python3.10/site-packages (from jsonschema[format-nongpl]>=4.18.0->jupyter-events>=0.9.0->jupyter-server<3,>=1.6->jupyter-ai[all]) (20.11.0)\n",
      "Requirement already satisfied: jsonpointer>1.13 in /home/ec2-user/anaconda3/envs/python3/lib/python3.10/site-packages (from jsonschema[format-nongpl]>=4.18.0->jupyter-events>=0.9.0->jupyter-server<3,>=1.6->jupyter-ai[all]) (3.0.0)\n",
      "Requirement already satisfied: uri-template in /home/ec2-user/anaconda3/envs/python3/lib/python3.10/site-packages (from jsonschema[format-nongpl]>=4.18.0->jupyter-events>=0.9.0->jupyter-server<3,>=1.6->jupyter-ai[all]) (1.3.0)\n",
      "Requirement already satisfied: webcolors>=24.6.0 in /home/ec2-user/anaconda3/envs/python3/lib/python3.10/site-packages (from jsonschema[format-nongpl]>=4.18.0->jupyter-events>=0.9.0->jupyter-server<3,>=1.6->jupyter-ai[all]) (24.8.0)\n",
      "Requirement already satisfied: jsonpatch<2.0,>=1.33 in /home/ec2-user/anaconda3/envs/python3/lib/python3.10/site-packages (from langchain-core<0.3.0,>=0.2.43->langchain<0.3.0,>=0.2.17->jupyter-ai-magics->jupyter-ai[all]) (1.33)\n",
      "INFO: pip is looking at multiple versions of langchain-experimental to determine which version is compatible with other requirements. This could take a while.\n",
      "Collecting langchain-experimental>=0.0.6 (from langchain-cohere->jupyter-ai-magics[all]; extra == \"all\"->jupyter-ai[all])\n",
      "  Downloading langchain_experimental-0.3.2-py3-none-any.whl.metadata (1.7 kB)\n",
      "  Downloading langchain_experimental-0.3.1.post1-py3-none-any.whl.metadata (1.7 kB)\n",
      "  Downloading langchain_experimental-0.3.1-py3-none-any.whl.metadata (1.7 kB)\n",
      "  Downloading langchain_experimental-0.3.0-py3-none-any.whl.metadata (1.7 kB)\n",
      "  Downloading langchain_experimental-0.0.65-py3-none-any.whl.metadata (1.7 kB)\n",
      "Requirement already satisfied: orjson<4.0.0,>=3.9.14 in /home/ec2-user/anaconda3/envs/python3/lib/python3.10/site-packages (from langsmith<0.2.0,>=0.1.17->langchain<0.3.0,>=0.2.17->jupyter-ai-magics->jupyter-ai[all]) (3.10.11)\n",
      "Requirement already satisfied: requests-toolbelt<2.0.0,>=1.0.0 in /home/ec2-user/anaconda3/envs/python3/lib/python3.10/site-packages (from langsmith<0.2.0,>=0.1.17->langchain<0.3.0,>=0.2.17->jupyter-ai-magics->jupyter-ai[all]) (1.0.0)\n",
      "Requirement already satisfied: dill>=0.3.9 in /home/ec2-user/anaconda3/envs/python3/lib/python3.10/site-packages (from multiprocess>=0.70.12->qianfan->jupyter-ai-magics[all]; extra == \"all\"->jupyter-ai[all]) (0.3.9)\n",
      "Requirement already satisfied: pytz>=2020.1 in /home/ec2-user/anaconda3/envs/python3/lib/python3.10/site-packages (from pandas>=1.4.3->langchain-cohere->jupyter-ai-magics[all]; extra == \"all\"->jupyter-ai[all]) (2024.2)\n",
      "Requirement already satisfied: wcwidth in /home/ec2-user/anaconda3/envs/python3/lib/python3.10/site-packages (from prompt-toolkit<3.1.0,>=3.0.41->ipython->jupyterlab<4,>=3.5->jupyter-ai[all]) (0.2.13)\n",
      "Requirement already satisfied: annotated-types>=0.6.0 in /home/ec2-user/anaconda3/envs/python3/lib/python3.10/site-packages (from pydantic<3,>=1->langchain<0.3.0,>=0.2.17->jupyter-ai-magics->jupyter-ai[all]) (0.7.0)\n",
      "Requirement already satisfied: charset-normalizer<4,>=2 in /home/ec2-user/anaconda3/envs/python3/lib/python3.10/site-packages (from requests>=2.31->jupyterlab-server~=2.19->jupyterlab<4,>=3.5->jupyter-ai[all]) (3.4.0)\n",
      "Requirement already satisfied: markdown-it-py>=2.2.0 in /home/ec2-user/anaconda3/envs/python3/lib/python3.10/site-packages (from rich>=13.0.0->qianfan->jupyter-ai-magics[all]; extra == \"all\"->jupyter-ai[all]) (3.0.0)\n",
      "Requirement already satisfied: greenlet!=0.4.17 in /home/ec2-user/anaconda3/envs/python3/lib/python3.10/site-packages (from SQLAlchemy<3,>=1.4->langchain<0.3.0,>=0.2.17->jupyter-ai-magics->jupyter-ai[all]) (3.1.1)\n",
      "Requirement already satisfied: regex>=2022.1.18 in /home/ec2-user/anaconda3/envs/python3/lib/python3.10/site-packages (from tiktoken<1,>=0.7->langchain-openai->jupyter-ai-magics[all]; extra == \"all\"->jupyter-ai[all]) (2024.9.11)\n",
      "Collecting shellingham>=1.3.0 (from typer>=0.9.0->qianfan->jupyter-ai-magics[all]; extra == \"all\"->jupyter-ai[all])\n",
      "  Downloading shellingham-1.5.4-py2.py3-none-any.whl.metadata (3.5 kB)\n",
      "Requirement already satisfied: aiofiles<23,>=22.1.0 in /home/ec2-user/anaconda3/envs/python3/lib/python3.10/site-packages (from ypy-websocket<0.9.0,>=0.8.2->jupyter-server-ydoc~=0.8.0->jupyterlab<4,>=3.5->jupyter-ai[all]) (22.1.0)\n",
      "Requirement already satisfied: cffi>=1.0.1 in /home/ec2-user/anaconda3/envs/python3/lib/python3.10/site-packages (from argon2-cffi-bindings->argon2-cffi>=21.1->jupyter-server<3,>=1.6->jupyter-ai[all]) (1.17.1)\n",
      "Requirement already satisfied: soupsieve>1.2 in /home/ec2-user/anaconda3/envs/python3/lib/python3.10/site-packages (from beautifulsoup4->nbconvert>=6.4.4->jupyter-server<3,>=1.6->jupyter-ai[all]) (2.5)\n",
      "Requirement already satisfied: debugpy>=1.6.5 in /home/ec2-user/anaconda3/envs/python3/lib/python3.10/site-packages (from ipykernel->notebook<7->jupyterlab<4,>=3.5->jupyter-ai[all]) (1.8.7)\n",
      "Requirement already satisfied: executing>=1.2.0 in /home/ec2-user/anaconda3/envs/python3/lib/python3.10/site-packages (from stack-data->ipython->jupyterlab<4,>=3.5->jupyter-ai[all]) (2.1.0)\n",
      "Requirement already satisfied: asttokens>=2.1.0 in /home/ec2-user/anaconda3/envs/python3/lib/python3.10/site-packages (from stack-data->ipython->jupyterlab<4,>=3.5->jupyter-ai[all]) (2.4.1)\n",
      "Requirement already satisfied: pure-eval in /home/ec2-user/anaconda3/envs/python3/lib/python3.10/site-packages (from stack-data->ipython->jupyterlab<4,>=3.5->jupyter-ai[all]) (0.2.3)\n",
      "Requirement already satisfied: pycparser in /home/ec2-user/anaconda3/envs/python3/lib/python3.10/site-packages (from cffi>=1.0.1->argon2-cffi-bindings->argon2-cffi>=21.1->jupyter-server<3,>=1.6->jupyter-ai[all]) (2.22)\n",
      "Collecting googleapis-common-protos<2.0.dev0,>=1.56.2 (from google-api-core->google-generativeai<0.8.0,>=0.7.0->langchain-google-genai->jupyter-ai-magics[all]; extra == \"all\"->jupyter-ai[all])\n",
      "  Downloading googleapis_common_protos-1.66.0-py2.py3-none-any.whl.metadata (1.5 kB)\n",
      "Requirement already satisfied: pyasn1-modules>=0.2.1 in /home/ec2-user/anaconda3/envs/python3/lib/python3.10/site-packages (from google-auth>=2.15.0->google-generativeai<0.8.0,>=0.7.0->langchain-google-genai->jupyter-ai-magics[all]; extra == \"all\"->jupyter-ai[all]) (0.4.1)\n",
      "Requirement already satisfied: rsa<5,>=3.1.4 in /home/ec2-user/anaconda3/envs/python3/lib/python3.10/site-packages (from google-auth>=2.15.0->google-generativeai<0.8.0,>=0.7.0->langchain-google-genai->jupyter-ai-magics[all]; extra == \"all\"->jupyter-ai[all]) (4.7.2)\n",
      "Requirement already satisfied: mdurl~=0.1 in /home/ec2-user/anaconda3/envs/python3/lib/python3.10/site-packages (from markdown-it-py>=2.2.0->rich>=13.0.0->qianfan->jupyter-ai-magics[all]; extra == \"all\"->jupyter-ai[all]) (0.1.2)\n",
      "Requirement already satisfied: mypy-extensions>=0.3.0 in /home/ec2-user/anaconda3/envs/python3/lib/python3.10/site-packages (from typing-inspect<1,>=0.4.0->dataclasses-json<0.7,>=0.5.7->langchain-community<0.3.0,>=0.2.19->jupyter-ai-magics->jupyter-ai[all]) (1.0.0)\n",
      "Requirement already satisfied: propcache>=0.2.0 in /home/ec2-user/anaconda3/envs/python3/lib/python3.10/site-packages (from yarl<2.0,>=1.12.0->aiohttp<4.0.0,>=3.8.3->langchain<0.3.0,>=0.2.17->jupyter-ai-magics->jupyter-ai[all]) (0.2.0)\n",
      "Collecting httplib2<1.dev0,>=0.19.0 (from google-api-python-client->google-generativeai<0.8.0,>=0.7.0->langchain-google-genai->jupyter-ai-magics[all]; extra == \"all\"->jupyter-ai[all])\n",
      "  Downloading httplib2-0.22.0-py3-none-any.whl.metadata (2.6 kB)\n",
      "Collecting google-auth-httplib2<1.0.0,>=0.2.0 (from google-api-python-client->google-generativeai<0.8.0,>=0.7.0->langchain-google-genai->jupyter-ai-magics[all]; extra == \"all\"->jupyter-ai[all])\n",
      "  Downloading google_auth_httplib2-0.2.0-py2.py3-none-any.whl.metadata (2.2 kB)\n",
      "Collecting uritemplate<5,>=3.0.1 (from google-api-python-client->google-generativeai<0.8.0,>=0.7.0->langchain-google-genai->jupyter-ai-magics[all]; extra == \"all\"->jupyter-ai[all])\n",
      "  Downloading uritemplate-4.1.1-py2.py3-none-any.whl.metadata (2.9 kB)\n",
      "Requirement already satisfied: arrow>=0.15.0 in /home/ec2-user/anaconda3/envs/python3/lib/python3.10/site-packages (from isoduration->jsonschema[format-nongpl]>=4.18.0->jupyter-events>=0.9.0->jupyter-server<3,>=1.6->jupyter-ai[all]) (1.3.0)\n",
      "Requirement already satisfied: types-python-dateutil>=2.8.10 in /home/ec2-user/anaconda3/envs/python3/lib/python3.10/site-packages (from arrow>=0.15.0->isoduration->jsonschema[format-nongpl]>=4.18.0->jupyter-events>=0.9.0->jupyter-server<3,>=1.6->jupyter-ai[all]) (2.9.0.20241003)\n",
      "Collecting grpcio<2.0dev,>=1.33.2 (from google-api-core[grpc]!=2.0.*,!=2.1.*,!=2.10.*,!=2.2.*,!=2.3.*,!=2.4.*,!=2.5.*,!=2.6.*,!=2.7.*,!=2.8.*,!=2.9.*,<3.0.0dev,>=1.34.1->google-ai-generativelanguage==0.6.6->google-generativeai<0.8.0,>=0.7.0->langchain-google-genai->jupyter-ai-magics[all]; extra == \"all\"->jupyter-ai[all])\n",
      "  Downloading grpcio-1.68.0-cp310-cp310-manylinux_2_17_x86_64.manylinux2014_x86_64.whl.metadata (3.9 kB)\n",
      "Collecting grpcio-status<2.0.dev0,>=1.33.2 (from google-api-core[grpc]!=2.0.*,!=2.1.*,!=2.10.*,!=2.2.*,!=2.3.*,!=2.4.*,!=2.5.*,!=2.6.*,!=2.7.*,!=2.8.*,!=2.9.*,<3.0.0dev,>=1.34.1->google-ai-generativelanguage==0.6.6->google-generativeai<0.8.0,>=0.7.0->langchain-google-genai->jupyter-ai-magics[all]; extra == \"all\"->jupyter-ai[all])\n",
      "  Downloading grpcio_status-1.68.0-py3-none-any.whl.metadata (1.1 kB)\n",
      "Requirement already satisfied: pyparsing!=3.0.0,!=3.0.1,!=3.0.2,!=3.0.3,<4,>=2.4.2 in /home/ec2-user/anaconda3/envs/python3/lib/python3.10/site-packages (from httplib2<1.dev0,>=0.19.0->google-api-python-client->google-generativeai<0.8.0,>=0.7.0->langchain-google-genai->jupyter-ai-magics[all]; extra == \"all\"->jupyter-ai[all]) (3.2.0)\n",
      "Requirement already satisfied: pyasn1<0.7.0,>=0.4.6 in /home/ec2-user/anaconda3/envs/python3/lib/python3.10/site-packages (from pyasn1-modules>=0.2.1->google-auth>=2.15.0->google-generativeai<0.8.0,>=0.7.0->langchain-google-genai->jupyter-ai-magics[all]; extra == \"all\"->jupyter-ai[all]) (0.6.1)\n",
      "INFO: pip is looking at multiple versions of grpcio-status to determine which version is compatible with other requirements. This could take a while.\n",
      "  Downloading grpcio_status-1.67.1-py3-none-any.whl.metadata (1.1 kB)\n",
      "  Downloading grpcio_status-1.67.0-py3-none-any.whl.metadata (1.1 kB)\n",
      "  Downloading grpcio_status-1.66.2-py3-none-any.whl.metadata (1.1 kB)\n",
      "  Downloading grpcio_status-1.66.1-py3-none-any.whl.metadata (1.1 kB)\n",
      "  Downloading grpcio_status-1.66.0-py3-none-any.whl.metadata (1.1 kB)\n",
      "  Downloading grpcio_status-1.65.5-py3-none-any.whl.metadata (1.1 kB)\n",
      "  Downloading grpcio_status-1.65.4-py3-none-any.whl.metadata (1.1 kB)\n",
      "INFO: pip is still looking at multiple versions of grpcio-status to determine which version is compatible with other requirements. This could take a while.\n",
      "  Downloading grpcio_status-1.65.2-py3-none-any.whl.metadata (1.1 kB)\n",
      "  Downloading grpcio_status-1.65.1-py3-none-any.whl.metadata (1.1 kB)\n",
      "  Downloading grpcio_status-1.64.3-py3-none-any.whl.metadata (1.1 kB)\n",
      "  Downloading grpcio_status-1.64.1-py3-none-any.whl.metadata (1.1 kB)\n",
      "  Downloading grpcio_status-1.64.0-py3-none-any.whl.metadata (1.1 kB)\n",
      "INFO: This is taking longer than usual. You might need to provide the dependency resolver with stricter constraints to reduce runtime. See https://pip.pypa.io/warnings/backtracking for guidance. If you want to abort this run, press Ctrl + C.\n",
      "  Downloading grpcio_status-1.63.2-py3-none-any.whl.metadata (1.1 kB)\n",
      "  Downloading grpcio_status-1.63.0-py3-none-any.whl.metadata (1.1 kB)\n",
      "  Downloading grpcio_status-1.62.3-py3-none-any.whl.metadata (1.3 kB)\n",
      "Downloading pypdf-5.1.0-py3-none-any.whl (297 kB)\n",
      "Downloading ai21-3.0.0-py3-none-any.whl (59 kB)\n",
      "Downloading gpt4all-2.8.2-py3-none-manylinux1_x86_64.whl (121.6 MB)\n",
      "\u001b[2K   \u001b[90m━━━━━━━━━━━━━━━━━━━━━━━━━━━━━━━━━━━━━━━━\u001b[0m \u001b[32m121.6/121.6 MB\u001b[0m \u001b[31m71.1 MB/s\u001b[0m eta \u001b[36m0:00:00\u001b[0m00:01\u001b[0m00:01\u001b[0m\n",
      "\u001b[?25hDownloading huggingface_hub-0.26.2-py3-none-any.whl (447 kB)\n",
      "Downloading langchain_anthropic-0.1.23-py3-none-any.whl (21 kB)\n",
      "Downloading langchain_aws-0.1.18-py3-none-any.whl (83 kB)\n",
      "Downloading boto3-1.34.162-py3-none-any.whl (139 kB)\n",
      "Downloading langchain_cohere-0.2.4-py3-none-any.whl (43 kB)\n",
      "Downloading langchain_google_genai-1.0.10-py3-none-any.whl (39 kB)\n",
      "Downloading langchain_mistralai-0.1.13-py3-none-any.whl (14 kB)\n",
      "Downloading langchain_nvidia_ai_endpoints-0.2.2-py3-none-any.whl (40 kB)\n",
      "Downloading pillow-10.4.0-cp310-cp310-manylinux_2_17_x86_64.manylinux2014_x86_64.whl (4.4 MB)\n",
      "\u001b[2K   \u001b[90m━━━━━━━━━━━━━━━━━━━━━━━━━━━━━━━━━━━━━━━━\u001b[0m \u001b[32m4.4/4.4 MB\u001b[0m \u001b[31m111.3 MB/s\u001b[0m eta \u001b[36m0:00:00\u001b[0m\n",
      "\u001b[?25hDownloading langchain_ollama-0.1.3-py3-none-any.whl (14 kB)\n",
      "Downloading langchain_openai-0.1.25-py3-none-any.whl (51 kB)\n",
      "Downloading qianfan-0.4.12.1-py3-none-any.whl (470 kB)\n",
      "Downloading together-1.3.5-py3-none-any.whl (70 kB)\n",
      "Downloading ai21_tokenizer-0.12.0-py3-none-any.whl (2.7 MB)\n",
      "\u001b[2K   \u001b[90m━━━━━━━━━━━━━━━━━━━━━━━━━━━━━━━━━━━━━━━━\u001b[0m \u001b[32m2.7/2.7 MB\u001b[0m \u001b[31m45.3 MB/s\u001b[0m eta \u001b[36m0:00:00\u001b[0m\n",
      "\u001b[?25hDownloading aiolimiter-1.1.0-py3-none-any.whl (7.2 kB)\n",
      "Downloading anthropic-0.39.0-py3-none-any.whl (198 kB)\n",
      "Downloading bce_python_sdk-0.9.23-py3-none-any.whl (336 kB)\n",
      "Downloading botocore-1.34.162-py3-none-any.whl (12.5 MB)\n",
      "\u001b[2K   \u001b[90m━━━━━━━━━━━━━━━━━━━━━━━━━━━━━━━━━━━━━━━━\u001b[0m \u001b[32m12.5/12.5 MB\u001b[0m \u001b[31m145.9 MB/s\u001b[0m eta \u001b[36m0:00:00\u001b[0m\n",
      "\u001b[?25hDownloading cohere-5.11.4-py3-none-any.whl (249 kB)\n",
      "Downloading httpx_sse-0.4.0-py3-none-any.whl (7.8 kB)\n",
      "Downloading diskcache-5.6.3-py3-none-any.whl (45 kB)\n",
      "Downloading eval_type_backport-0.2.0-py3-none-any.whl (5.9 kB)\n",
      "Downloading google_generativeai-0.7.2-py3-none-any.whl (164 kB)\n",
      "Downloading google_ai_generativelanguage-0.6.6-py3-none-any.whl (718 kB)\n",
      "\u001b[2K   \u001b[90m━━━━━━━━━━━━━━━━━━━━━━━━━━━━━━━━━━━━━━━━\u001b[0m \u001b[32m718.3/718.3 kB\u001b[0m \u001b[31m59.7 MB/s\u001b[0m eta \u001b[36m0:00:00\u001b[0m\n",
      "\u001b[?25hDownloading langchain_experimental-0.0.65-py3-none-any.whl (207 kB)\n",
      "Downloading ollama-0.4.0-py3-none-any.whl (12 kB)\n",
      "Downloading python_dotenv-1.0.1-py3-none-any.whl (19 kB)\n",
      "Downloading tiktoken-0.8.0-cp310-cp310-manylinux_2_17_x86_64.manylinux2014_x86_64.whl (1.2 MB)\n",
      "\u001b[2K   \u001b[90m━━━━━━━━━━━━━━━━━━━━━━━━━━━━━━━━━━━━━━━━\u001b[0m \u001b[32m1.2/1.2 MB\u001b[0m \u001b[31m79.4 MB/s\u001b[0m eta \u001b[36m0:00:00\u001b[0m\n",
      "\u001b[?25hDownloading tokenizers-0.20.3-cp310-cp310-manylinux_2_17_x86_64.manylinux2014_x86_64.whl (3.0 MB)\n",
      "\u001b[2K   \u001b[90m━━━━━━━━━━━━━━━━━━━━━━━━━━━━━━━━━━━━━━━━\u001b[0m \u001b[32m3.0/3.0 MB\u001b[0m \u001b[31m123.0 MB/s\u001b[0m eta \u001b[36m0:00:00\u001b[0m\n",
      "\u001b[?25hDownloading typer-0.13.1-py3-none-any.whl (44 kB)\n",
      "Downloading fastavro-1.9.7-cp310-cp310-manylinux_2_17_x86_64.manylinux2014_x86_64.whl (3.1 MB)\n",
      "\u001b[2K   \u001b[90m━━━━━━━━━━━━━━━━━━━━━━━━━━━━━━━━━━━━━━━━\u001b[0m \u001b[32m3.1/3.1 MB\u001b[0m \u001b[31m147.4 MB/s\u001b[0m eta \u001b[36m0:00:00\u001b[0m\n",
      "\u001b[?25hDownloading google_api_core-2.23.0-py3-none-any.whl (156 kB)\n",
      "Downloading parameterized-0.9.0-py2.py3-none-any.whl (20 kB)\n",
      "Downloading sentencepiece-0.2.0-cp310-cp310-manylinux_2_17_x86_64.manylinux2014_x86_64.whl (1.3 MB)\n",
      "\u001b[2K   \u001b[90m━━━━━━━━━━━━━━━━━━━━━━━━━━━━━━━━━━━━━━━━\u001b[0m \u001b[32m1.3/1.3 MB\u001b[0m \u001b[31m50.8 MB/s\u001b[0m eta \u001b[36m0:00:00\u001b[0m\n",
      "\u001b[?25hDownloading shellingham-1.5.4-py2.py3-none-any.whl (9.8 kB)\n",
      "Downloading types_requests-2.32.0.20241016-py3-none-any.whl (15 kB)\n",
      "Downloading google_api_python_client-2.154.0-py2.py3-none-any.whl (12.6 MB)\n",
      "\u001b[2K   \u001b[90m━━━━━━━━━━━━━━━━━━━━━━━━━━━━━━━━━━━━━━━━\u001b[0m \u001b[32m12.6/12.6 MB\u001b[0m \u001b[31m130.4 MB/s\u001b[0m eta \u001b[36m0:00:00\u001b[0m\n",
      "\u001b[?25hDownloading google_auth_httplib2-0.2.0-py2.py3-none-any.whl (9.3 kB)\n",
      "Downloading googleapis_common_protos-1.66.0-py2.py3-none-any.whl (221 kB)\n",
      "Downloading httplib2-0.22.0-py3-none-any.whl (96 kB)\n",
      "Downloading proto_plus-1.25.0-py3-none-any.whl (50 kB)\n",
      "Downloading uritemplate-4.1.1-py2.py3-none-any.whl (10 kB)\n",
      "Downloading grpcio-1.68.0-cp310-cp310-manylinux_2_17_x86_64.manylinux2014_x86_64.whl (5.9 MB)\n",
      "\u001b[2K   \u001b[90m━━━━━━━━━━━━━━━━━━━━━━━━━━━━━━━━━━━━━━━━\u001b[0m \u001b[32m5.9/5.9 MB\u001b[0m \u001b[31m93.7 MB/s\u001b[0m eta \u001b[36m0:00:00\u001b[0m\n",
      "\u001b[?25hDownloading grpcio_status-1.62.3-py3-none-any.whl (14 kB)\n",
      "Installing collected packages: sentencepiece, uritemplate, types-requests, shellingham, python-dotenv, pypdf, proto-plus, pillow, parameterized, httpx-sse, httplib2, grpcio, googleapis-common-protos, fastavro, eval-type-backport, diskcache, bce-python-sdk, aiolimiter, tiktoken, huggingface-hub, grpcio-status, gpt4all, botocore, typer, tokenizers, ollama, google-auth-httplib2, google-api-core, anthropic, together, qianfan, google-api-python-client, cohere, boto3, ai21-tokenizer, langchain-openai, langchain-ollama, langchain-nvidia-ai-endpoints, langchain-mistralai, langchain-aws, langchain-anthropic, google-ai-generativelanguage, ai21, google-generativeai, langchain-google-genai, langchain-experimental, langchain-cohere\n",
      "  Attempting uninstall: pillow\n",
      "    Found existing installation: pillow 11.0.0\n",
      "    Uninstalling pillow-11.0.0:\n",
      "      Successfully uninstalled pillow-11.0.0\n",
      "  Attempting uninstall: botocore\n",
      "    Found existing installation: botocore 1.35.63\n",
      "    Uninstalling botocore-1.35.63:\n",
      "      Successfully uninstalled botocore-1.35.63\n",
      "  Attempting uninstall: boto3\n",
      "    Found existing installation: boto3 1.35.63\n",
      "    Uninstalling boto3-1.35.63:\n",
      "      Successfully uninstalled boto3-1.35.63\n",
      "\u001b[31mERROR: pip's dependency resolver does not currently take into account all the packages that are installed. This behaviour is the source of the following dependency conflicts.\n",
      "awscli 1.36.4 requires botocore==1.35.63, but you have botocore 1.34.162 which is incompatible.\u001b[0m\u001b[31m\n",
      "\u001b[0mSuccessfully installed ai21-3.0.0 ai21-tokenizer-0.12.0 aiolimiter-1.1.0 anthropic-0.39.0 bce-python-sdk-0.9.23 boto3-1.34.162 botocore-1.34.162 cohere-5.11.4 diskcache-5.6.3 eval-type-backport-0.2.0 fastavro-1.9.7 google-ai-generativelanguage-0.6.6 google-api-core-2.23.0 google-api-python-client-2.154.0 google-auth-httplib2-0.2.0 google-generativeai-0.7.2 googleapis-common-protos-1.66.0 gpt4all-2.8.2 grpcio-1.68.0 grpcio-status-1.62.3 httplib2-0.22.0 httpx-sse-0.4.0 huggingface-hub-0.26.2 langchain-anthropic-0.1.23 langchain-aws-0.1.18 langchain-cohere-0.2.4 langchain-experimental-0.0.65 langchain-google-genai-1.0.10 langchain-mistralai-0.1.13 langchain-nvidia-ai-endpoints-0.2.2 langchain-ollama-0.1.3 langchain-openai-0.1.25 ollama-0.4.0 parameterized-0.9.0 pillow-10.4.0 proto-plus-1.25.0 pypdf-5.1.0 python-dotenv-1.0.1 qianfan-0.4.12.1 sentencepiece-0.2.0 shellingham-1.5.4 tiktoken-0.8.0 together-1.3.5 tokenizers-0.20.3 typer-0.13.1 types-requests-2.32.0.20241016 uritemplate-4.1.1\n",
      "Note: you may need to restart the kernel to use updated packages.\n"
     ]
    }
   ],
   "source": [
    "pip install jupyter-ai[all]"
   ]
  },
  {
   "cell_type": "code",
   "execution_count": 6,
   "id": "68dc7477-3a4f-4518-9046-3ffd289227cb",
   "metadata": {
    "tags": []
   },
   "outputs": [
    {
     "name": "stdout",
     "output_type": "stream",
     "text": [
      "Requirement already satisfied: pymongo in /home/ec2-user/anaconda3/envs/python3/lib/python3.10/site-packages (4.10.1)\n",
      "Requirement already satisfied: dnspython<3.0.0,>=1.16.0 in /home/ec2-user/anaconda3/envs/python3/lib/python3.10/site-packages (from pymongo) (2.7.0)\n",
      "Note: you may need to restart the kernel to use updated packages.\n"
     ]
    }
   ],
   "source": [
    "pip install pymongo"
   ]
  },
  {
   "cell_type": "markdown",
   "id": "e80164f8-aedf-451f-a6f7-6c9984e34bbf",
   "metadata": {},
   "source": [
    "## Secret Manager Function"
   ]
  },
  {
   "cell_type": "code",
   "execution_count": 8,
   "id": "52b08fed-b351-4e65-aa8b-2c95cd5ff75a",
   "metadata": {
    "tags": []
   },
   "outputs": [],
   "source": [
    "import boto3\n",
    "from botocore.exceptions import ClientError\n",
    "import json\n",
    "\n",
    "def get_secret(secret_name):\n",
    "    region_name = \"us-east-1\"\n",
    "\n",
    "    # Create a Secrets Manager client\n",
    "    session = boto3.session.Session()\n",
    "    client = session.client(\n",
    "        service_name='secretsmanager',\n",
    "        region_name=region_name\n",
    "    )\n",
    "\n",
    "    try:\n",
    "        get_secret_value_response = client.get_secret_value(\n",
    "            SecretId=secret_name\n",
    "        )\n",
    "    except ClientError as e:\n",
    "        raise e\n",
    "\n",
    "    secret = get_secret_value_response['SecretString']\n",
    "    \n",
    "    return json.loads(secret)"
   ]
  },
  {
   "cell_type": "markdown",
   "id": "991c8cf4-abae-4de8-947d-ff89c8306a02",
   "metadata": {},
   "source": [
    "## Import Python Libraries and Credentials"
   ]
  },
  {
   "cell_type": "code",
   "execution_count": 9,
   "id": "b987755c-5627-4c07-994d-7000ab949923",
   "metadata": {
    "tags": []
   },
   "outputs": [],
   "source": [
    "import pymongo\n",
    "from pymongo import MongoClient\n",
    "import json\n",
    "from pprint import pprint\n",
    "from tqdm.auto import tqdm\n",
    "import re\n",
    "\n",
    "openai_api_key  = get_secret('Openai')['api_key']\n",
    "\n",
    "mongodb_connect = get_secret('mongodb')['connection_string']"
   ]
  },
  {
   "cell_type": "markdown",
   "id": "83c43621-a23c-4cff-a92e-baf838b9cfe3",
   "metadata": {},
   "source": [
    "## Connect to the MongoDB cluster"
   ]
  },
  {
   "cell_type": "code",
   "execution_count": 10,
   "id": "a29b88d5-b53a-4267-b9d6-c5e1d313b81a",
   "metadata": {
    "tags": []
   },
   "outputs": [],
   "source": [
    "mongo_client = MongoClient(mongodb_connect)\n",
    "db = mongo_client.demo # use or create a database named demo\n",
    "job_collection = db.job_collection #use or create a collection named tweet_collection"
   ]
  },
  {
   "cell_type": "markdown",
   "id": "79de89aa-b735-48da-8ce2-ecd861c2d729",
   "metadata": {},
   "source": [
    "## Extract Job Data"
   ]
  },
  {
   "cell_type": "markdown",
   "id": "6dc8921a-3df9-42dc-9507-6f6287089bd9",
   "metadata": {},
   "source": [
    "Filter the jobs you are interested in. You can use MongoDB Compass to help you write the queries."
   ]
  },
  {
   "cell_type": "code",
   "execution_count": 11,
   "id": "a4a47a1f-143f-41c5-87b3-9b2b520b9376",
   "metadata": {
    "tags": []
   },
   "outputs": [],
   "source": [
    "filter={\n",
    "\n",
    "    \n",
    "}\n",
    "project={\n",
    "    'QualificationSummary': 1, \n",
    "    'PositionID': 1\n",
    "}\n",
    "#rename the client to mongo_client\n",
    "result = mongo_client['demo']['job_collection'].find(\n",
    "  filter=filter,\n",
    "  projection=project\n",
    ")"
   ]
  },
  {
   "cell_type": "markdown",
   "id": "2a43ed0e-f23a-4a7e-8dfc-88443b137bc1",
   "metadata": {},
   "source": [
    "Save the extracted jobs into the job_data list."
   ]
  },
  {
   "cell_type": "code",
   "execution_count": 12,
   "id": "9fef848c-0352-42cc-9bfa-462508601102",
   "metadata": {
    "tags": []
   },
   "outputs": [],
   "source": [
    "job_data = []\n",
    "#url_pattern = r'http[s]?://(?:[a-zA-Z]|[0-9]|[$-_@.&+]|[!*\\\\(\\\\),]|(?:%[0-9a-fA-F][0-9a-fA-F]))+'\n",
    "for job in result:\n",
    "   #text_without_urls = re.sub(url_pattern, '', tweet['tweet']['text'])\n",
    "    job_data.append({'position_id':job['PositionID'],'summary':job['QualificationSummary']})"
   ]
  },
  {
   "cell_type": "code",
   "execution_count": 13,
   "id": "2655f42e-81f6-428a-a79c-1e9c9be3aa3e",
   "metadata": {
    "tags": []
   },
   "outputs": [
    {
     "name": "stdout",
     "output_type": "stream",
     "text": [
      "Number of jobs:  114\n"
     ]
    }
   ],
   "source": [
    "print('Number of jobs: ',len(job_data))\n",
    "#The original number of jobs answer I got was 114, I do not understand what has no happened as none of my code has changed."
   ]
  },
  {
   "cell_type": "markdown",
   "id": "c288dace-226b-47f1-a153-60f6044e21d4",
   "metadata": {},
   "source": [
    "## Set up OpenAI API"
   ]
  },
  {
   "cell_type": "markdown",
   "id": "2e425649-b944-476b-b051-10e386a37031",
   "metadata": {},
   "source": [
    "Load the OpenAI API key and set the API parameters.\n",
    "\n",
    "- Model type: usegpt-4o by default, and you choose any [availabel models](https://platform.openai.com/docs/models).\n",
    "- Token estimate: 100 tokens ~= 75 words in English. Total token usage = tokens in the prompt + tokens in the completion. You can get a more accurate estimate at [Tokenier](https://platform.openai.com/tokenizer).\n",
    "- Temperature: Lower temperatures produce more consistent outputs, while higher values generate more diverse and creative results. "
   ]
  },
  {
   "cell_type": "markdown",
   "id": "996910ad-0ac9-4e7f-b20a-1c45f0a3c57f",
   "metadata": {},
   "source": [
    "A help function, ```openai_help```, is created to pass the prompt."
   ]
  },
  {
   "cell_type": "code",
   "execution_count": 11,
   "id": "c24a56f1-d729-4d61-9344-441b126a86b3",
   "metadata": {
    "tags": []
   },
   "outputs": [],
   "source": [
    "from openai import OpenAI\n",
    "client = OpenAI(api_key=openai_api_key)\n",
    "model=\"gpt-4o\"\n",
    "temperature=0\n",
    "\n",
    "def openai_help(prompt, model=model, temperature =temperature ):\n",
    "    messages = [{\"role\": \"user\", \"content\": prompt}]\n",
    "    response = client.chat.completions.create(\n",
    "        model=model,\n",
    "        messages=messages,\n",
    "        temperature=temperature\n",
    "\n",
    "    )\n",
    "    return response.choices[0].message.content"
   ]
  },
  {
   "cell_type": "markdown",
   "id": "5808bba1-785c-4ccf-abdd-170ea861280a",
   "metadata": {},
   "source": [
    "## Sentiment analysis"
   ]
  },
  {
   "cell_type": "markdown",
   "id": "bf5f403a-716e-4c06-a8d1-6098dfe48e41",
   "metadata": {},
   "source": [
    "Analyze the sentiment of each tweet and save the result to the MongoDB database."
   ]
  },
  {
   "cell_type": "code",
   "execution_count": 12,
   "id": "d3c09ce2-c467-4782-892c-ed6d911612d8",
   "metadata": {
    "tags": []
   },
   "outputs": [
    {
     "data": {
      "application/vnd.jupyter.widget-view+json": {
       "model_id": "de3551fac96e4462ac70d1ee216a4931",
       "version_major": 2,
       "version_minor": 0
      },
      "text/plain": [
       "  0%|          | 0/200 [00:00<?, ?it/s]"
      ]
     },
     "metadata": {},
     "output_type": "display_data"
    }
   ],
   "source": [
    "for tweet in tqdm(tweet_data):\n",
    "  \n",
    "    prompt = f\"\"\"\n",
    "    What is the sentiment of the following tweet, \n",
    "    tweet text: {tweet['tweet_text']}\n",
    "    return  the result with one word as Positive, Neutral,or Negative\n",
    " \n",
    "    \"\"\"\n",
    "#     print(prompt)\n",
    "    try:\n",
    "        sentiment_result =openai_help(prompt)\n",
    "    #     print(sentiment_result)\n",
    "\n",
    "        tweet_collection.update_one(\n",
    "            {'tweet.id':tweet['tweet_id']},\n",
    "            {\"$set\":{'tweet.sentiment':sentiment_result}}\n",
    "        )\n",
    "    except:\n",
    "        pass"
   ]
  },
  {
   "cell_type": "markdown",
   "id": "735f2c52-38a5-4ae2-b185-0a1f81763f50",
   "metadata": {
    "tags": []
   },
   "source": [
    "## Language translation"
   ]
  },
  {
   "cell_type": "markdown",
   "id": "48b69cff-e278-4613-a5c0-58aa042a9a87",
   "metadata": {},
   "source": [
    "Translate each tweet into a different language and save the result to the MongoDB database."
   ]
  },
  {
   "cell_type": "code",
   "execution_count": 13,
   "id": "48a66b2d-2aa1-4074-bbdd-3f5483dcbcc2",
   "metadata": {
    "tags": []
   },
   "outputs": [
    {
     "data": {
      "application/vnd.jupyter.widget-view+json": {
       "model_id": "7360383919544cde9eb174cc776d4250",
       "version_major": 2,
       "version_minor": 0
      },
      "text/plain": [
       "  0%|          | 0/200 [00:00<?, ?it/s]"
      ]
     },
     "metadata": {},
     "output_type": "display_data"
    }
   ],
   "source": [
    "for tweet in tqdm(tweet_data):\n",
    "  \n",
    "    prompt = f\"\"\"\n",
    "    Translate the following tweet into Spanish\n",
    "    tweet text: {tweet['tweet_text']}\n",
    " \n",
    "    \"\"\"\n",
    "#     print(prompt)\n",
    "    try:\n",
    "        translate_result =openai_help(prompt)\n",
    "#         print(translate_result)\n",
    "\n",
    "        tweet_collection.update_one(\n",
    "            {'tweet.id':tweet['tweet_id']},\n",
    "            {\"$set\":{'tweet.translate':translate_result}}\n",
    "        )\n",
    "    except:\n",
    "        pass"
   ]
  },
  {
   "cell_type": "markdown",
   "id": "96f49995-c37d-47da-94f9-6600b4af83c5",
   "metadata": {},
   "source": [
    "## Identify emotions"
   ]
  },
  {
   "cell_type": "markdown",
   "id": "d90a76ee-a860-45bd-9b46-125313a53bfd",
   "metadata": {},
   "source": [
    "Identify whether a tweet expresses anger, and save the result to the MongoDB database."
   ]
  },
  {
   "cell_type": "code",
   "execution_count": 14,
   "id": "cf4d952c-e418-475c-8d66-a5aea631ce47",
   "metadata": {
    "scrolled": true,
    "tags": []
   },
   "outputs": [
    {
     "data": {
      "application/vnd.jupyter.widget-view+json": {
       "model_id": "aad9e6e135794a3c93b8d52407d04bdc",
       "version_major": 2,
       "version_minor": 0
      },
      "text/plain": [
       "  0%|          | 0/200 [00:00<?, ?it/s]"
      ]
     },
     "metadata": {},
     "output_type": "display_data"
    }
   ],
   "source": [
    "for tweet in tqdm(tweet_data):\n",
    "  \n",
    "    prompt = f\"\"\"\n",
    "    Detect the emotion in the following tweet, and extract whether the tweet expresses anger.\n",
    "    Provide the result as True, False, or Unknown. \n",
    "    Don't provide any reasoning or other output.\n",
    "    tweet text: {tweet['tweet_text']}\n",
    " \n",
    "    \"\"\"\n",
    "#     print(prompt)\n",
    "    try:\n",
    "        emotion_result =openai_help(prompt)\n",
    "        # print(emotion_result)\n",
    "\n",
    "        tweet_collection.update_one(\n",
    "                {'tweet.id':tweet['tweet_id']},\n",
    "                {\"$set\":{'tweet.anger':emotion_result}}\n",
    "            )\n",
    "    except:\n",
    "        pass"
   ]
  },
  {
   "cell_type": "markdown",
   "id": "d9297c56-9faf-4d5b-ac07-e1ad670ae78b",
   "metadata": {},
   "source": [
    "## Extract Skills"
   ]
  },
  {
   "cell_type": "markdown",
   "id": "8e1f09e0-2ddd-4fe7-973a-c238067761c4",
   "metadata": {},
   "source": [
    "Extract common skills from each job and save the result the the MongoDB database."
   ]
  },
  {
   "cell_type": "code",
   "execution_count": 14,
   "id": "918a668f-3e48-40aa-a7fa-cd150254bd87",
   "metadata": {
    "scrolled": true,
    "tags": []
   },
   "outputs": [
    {
     "data": {
      "application/vnd.jupyter.widget-view+json": {
       "model_id": "54c1d1def0274e4893966a9a5caebc75",
       "version_major": 2,
       "version_minor": 0
      },
      "text/plain": [
       "  0%|          | 0/114 [00:00<?, ?it/s]"
      ]
     },
     "metadata": {},
     "output_type": "display_data"
    }
   ],
   "source": [
    "for job in tqdm(job_data):\n",
    "  \n",
    "    prompt = f\"\"\"\n",
    "    Identify the common technology skills from the following job summary,\n",
    "    job summary: {job['summary']},\n",
    "    format the items in a JSON list,\n",
    "    be consistent, generalize, and concise, if no technology skills presented, use \"Unknown\" in the list.\n",
    "    Do not wrap the JSON codes in the JSON markers \n",
    "   \n",
    "    \"\"\"\n",
    "#     print(prompt)\n",
    "    try:\n",
    "        extract_result =openai_help(prompt)\n",
    "#        print(extract_result)\n",
    "\n",
    "        job_collection.update_one(\n",
    "                {'PositionID':tweet['position_id']},\n",
    "                {\"$set\":{'skills':json.loads(extract_result)}}\n",
    "                )\n",
    "    except:\n",
    "        pass"
   ]
  },
  {
   "cell_type": "code",
   "execution_count": null,
   "id": "089f20b5-1e5e-441c-a412-ca1e0f0ccfc4",
   "metadata": {},
   "outputs": [],
   "source": []
  }
 ],
 "metadata": {
  "kernelspec": {
   "display_name": "conda_python3",
   "language": "python",
   "name": "conda_python3"
  },
  "language_info": {
   "codemirror_mode": {
    "name": "ipython",
    "version": 3
   },
   "file_extension": ".py",
   "mimetype": "text/x-python",
   "name": "python",
   "nbconvert_exporter": "python",
   "pygments_lexer": "ipython3",
   "version": "3.10.15"
  }
 },
 "nbformat": 4,
 "nbformat_minor": 5
}
