{
 "cells": [
  {
   "cell_type": "markdown",
   "id": "8cf92b1a-21f5-4050-a80d-6b7acd6bef60",
   "metadata": {},
   "source": [
    "# Final Project"
   ]
  },
  {
   "cell_type": "markdown",
   "id": "aefcacfa-814a-460e-9d28-1ad683a684ab",
   "metadata": {},
   "source": [
    "Analyze the collected Twitter data with OpenAI and store the results in a MongoDB database. The analyses include:\n",
    "\n",
    "\n",
    "- Extract entities\n",
    "- Summarize"
   ]
  },
  {
   "cell_type": "markdown",
   "id": "ebdff760-a533-4ebf-b873-0d8576729536",
   "metadata": {},
   "source": [
    "## Install Python libraries."
   ]
  },
  {
   "cell_type": "markdown",
   "id": "67b55ccf-2acb-433c-90d4-ae9bb4bc5522",
   "metadata": {},
   "source": [
    "- pymongo: manage the MongoDB database\n",
    "- openai: call the OpenAI APIs."
   ]
  },
  {
   "cell_type": "code",
   "execution_count": 1,
   "id": "29f5cfe2-a541-41bf-803d-e597e343d02c",
   "metadata": {
    "tags": []
   },
   "outputs": [
    {
     "name": "stdout",
     "output_type": "stream",
     "text": [
      "Requirement already satisfied: pymongo in /home/ec2-user/anaconda3/envs/python3/lib/python3.10/site-packages (4.10.1)\n",
      "Requirement already satisfied: dnspython<3.0.0,>=1.16.0 in /home/ec2-user/anaconda3/envs/python3/lib/python3.10/site-packages (from pymongo) (2.7.0)\n",
      "Note: you may need to restart the kernel to use updated packages.\n"
     ]
    }
   ],
   "source": [
    "pip install pymongo"
   ]
  },
  {
   "cell_type": "code",
   "execution_count": 2,
   "id": "68dc7477-3a4f-4518-9046-3ffd289227cb",
   "metadata": {
    "tags": []
   },
   "outputs": [
    {
     "name": "stdout",
     "output_type": "stream",
     "text": [
      "Requirement already satisfied: openai in /home/ec2-user/anaconda3/envs/python3/lib/python3.10/site-packages (1.55.0)\n",
      "Requirement already satisfied: anyio<5,>=3.5.0 in /home/ec2-user/anaconda3/envs/python3/lib/python3.10/site-packages (from openai) (4.6.2.post1)\n",
      "Requirement already satisfied: distro<2,>=1.7.0 in /home/ec2-user/anaconda3/envs/python3/lib/python3.10/site-packages (from openai) (1.9.0)\n",
      "Requirement already satisfied: httpx<1,>=0.23.0 in /home/ec2-user/anaconda3/envs/python3/lib/python3.10/site-packages (from openai) (0.27.2)\n",
      "Requirement already satisfied: jiter<1,>=0.4.0 in /home/ec2-user/anaconda3/envs/python3/lib/python3.10/site-packages (from openai) (0.7.1)\n",
      "Requirement already satisfied: pydantic<3,>=1.9.0 in /home/ec2-user/anaconda3/envs/python3/lib/python3.10/site-packages (from openai) (2.9.2)\n",
      "Requirement already satisfied: sniffio in /home/ec2-user/anaconda3/envs/python3/lib/python3.10/site-packages (from openai) (1.3.1)\n",
      "Requirement already satisfied: tqdm>4 in /home/ec2-user/anaconda3/envs/python3/lib/python3.10/site-packages (from openai) (4.66.5)\n",
      "Requirement already satisfied: typing-extensions<5,>=4.11 in /home/ec2-user/anaconda3/envs/python3/lib/python3.10/site-packages (from openai) (4.12.2)\n",
      "Requirement already satisfied: idna>=2.8 in /home/ec2-user/anaconda3/envs/python3/lib/python3.10/site-packages (from anyio<5,>=3.5.0->openai) (3.10)\n",
      "Requirement already satisfied: exceptiongroup>=1.0.2 in /home/ec2-user/anaconda3/envs/python3/lib/python3.10/site-packages (from anyio<5,>=3.5.0->openai) (1.2.2)\n",
      "Requirement already satisfied: certifi in /home/ec2-user/anaconda3/envs/python3/lib/python3.10/site-packages (from httpx<1,>=0.23.0->openai) (2024.8.30)\n",
      "Requirement already satisfied: httpcore==1.* in /home/ec2-user/anaconda3/envs/python3/lib/python3.10/site-packages (from httpx<1,>=0.23.0->openai) (1.0.6)\n",
      "Requirement already satisfied: h11<0.15,>=0.13 in /home/ec2-user/anaconda3/envs/python3/lib/python3.10/site-packages (from httpcore==1.*->httpx<1,>=0.23.0->openai) (0.14.0)\n",
      "Requirement already satisfied: annotated-types>=0.6.0 in /home/ec2-user/anaconda3/envs/python3/lib/python3.10/site-packages (from pydantic<3,>=1.9.0->openai) (0.7.0)\n",
      "Requirement already satisfied: pydantic-core==2.23.4 in /home/ec2-user/anaconda3/envs/python3/lib/python3.10/site-packages (from pydantic<3,>=1.9.0->openai) (2.23.4)\n",
      "Note: you may need to restart the kernel to use updated packages.\n"
     ]
    }
   ],
   "source": [
    "pip install openai"
   ]
  },
  {
   "cell_type": "markdown",
   "id": "83c43621-a23c-4cff-a92e-baf838b9cfe3",
   "metadata": {},
   "source": [
    "## Connect to the MongoDB cluster"
   ]
  },
  {
   "cell_type": "code",
   "execution_count": 3,
   "id": "a29b88d5-b53a-4267-b9d6-c5e1d313b81a",
   "metadata": {
    "tags": []
   },
   "outputs": [
    {
     "ename": "NameError",
     "evalue": "name 'MongoClient' is not defined",
     "output_type": "error",
     "traceback": [
      "\u001b[0;31m---------------------------------------------------------------------------\u001b[0m",
      "\u001b[0;31mNameError\u001b[0m                                 Traceback (most recent call last)",
      "Cell \u001b[0;32mIn[3], line 1\u001b[0m\n\u001b[0;32m----> 1\u001b[0m mongo_client \u001b[38;5;241m=\u001b[39m \u001b[43mMongoClient\u001b[49m(mongodb_connect)\n\u001b[1;32m      2\u001b[0m db \u001b[38;5;241m=\u001b[39m mongo_client\u001b[38;5;241m.\u001b[39mdemo \u001b[38;5;66;03m# use or create a database named demo\u001b[39;00m\n\u001b[1;32m      3\u001b[0m job_collection \u001b[38;5;241m=\u001b[39m db\u001b[38;5;241m.\u001b[39mjob_collection \u001b[38;5;66;03m#use or create a collection named tweet_collection\u001b[39;00m\n",
      "\u001b[0;31mNameError\u001b[0m: name 'MongoClient' is not defined"
     ]
    }
   ],
   "source": [
    "mongo_client = MongoClient(mongodb_connect)\n",
    "db = mongo_client.demo # use or create a database named demo\n",
    "job_collection = db.job_collection #use or create a collection named tweet_collection"
   ]
  },
  {
   "cell_type": "markdown",
   "id": "79de89aa-b735-48da-8ce2-ecd861c2d729",
   "metadata": {},
   "source": [
    "## Extract Job Data"
   ]
  },
  {
   "cell_type": "markdown",
   "id": "6dc8921a-3df9-42dc-9507-6f6287089bd9",
   "metadata": {},
   "source": [
    "Filter the jobs you are interested in. You can use MongoDB Compass to help you write the queries."
   ]
  },
  {
   "cell_type": "code",
   "execution_count": 6,
   "id": "a4a47a1f-143f-41c5-87b3-9b2b520b9376",
   "metadata": {
    "tags": []
   },
   "outputs": [
    {
     "ename": "NameError",
     "evalue": "name 'mongo_client' is not defined",
     "output_type": "error",
     "traceback": [
      "\u001b[0;31m---------------------------------------------------------------------------\u001b[0m",
      "\u001b[0;31mNameError\u001b[0m                                 Traceback (most recent call last)",
      "Cell \u001b[0;32mIn[6], line 10\u001b[0m\n\u001b[1;32m      5\u001b[0m project\u001b[38;5;241m=\u001b[39m{\n\u001b[1;32m      6\u001b[0m     \u001b[38;5;124m'\u001b[39m\u001b[38;5;124mQualificationSummary\u001b[39m\u001b[38;5;124m'\u001b[39m: \u001b[38;5;241m1\u001b[39m, \n\u001b[1;32m      7\u001b[0m     \u001b[38;5;124m'\u001b[39m\u001b[38;5;124mPositionID\u001b[39m\u001b[38;5;124m'\u001b[39m: \u001b[38;5;241m1\u001b[39m\n\u001b[1;32m      8\u001b[0m }\n\u001b[1;32m      9\u001b[0m \u001b[38;5;66;03m#rename the client to mongo_client\u001b[39;00m\n\u001b[0;32m---> 10\u001b[0m result \u001b[38;5;241m=\u001b[39m \u001b[43mmongo_client\u001b[49m[\u001b[38;5;124m'\u001b[39m\u001b[38;5;124mdemo\u001b[39m\u001b[38;5;124m'\u001b[39m][\u001b[38;5;124m'\u001b[39m\u001b[38;5;124mjob_collection\u001b[39m\u001b[38;5;124m'\u001b[39m]\u001b[38;5;241m.\u001b[39mfind(\n\u001b[1;32m     11\u001b[0m   \u001b[38;5;28mfilter\u001b[39m\u001b[38;5;241m=\u001b[39m\u001b[38;5;28mfilter\u001b[39m,\n\u001b[1;32m     12\u001b[0m   projection\u001b[38;5;241m=\u001b[39mproject\n\u001b[1;32m     13\u001b[0m )\n",
      "\u001b[0;31mNameError\u001b[0m: name 'mongo_client' is not defined"
     ]
    }
   ],
   "source": [
    "filter={\n",
    "\n",
    "    \n",
    "}\n",
    "project={\n",
    "    'QualificationSummary': 1, \n",
    "    'PositionID': 1\n",
    "}\n",
    "#rename the client to mongo_client\n",
    "result = mongo_client['demo']['job_collection'].find(\n",
    "  filter=filter,\n",
    "  projection=project\n",
    ")"
   ]
  },
  {
   "cell_type": "markdown",
   "id": "2a43ed0e-f23a-4a7e-8dfc-88443b137bc1",
   "metadata": {},
   "source": [
    "Save the extracted jobs into the job_data list."
   ]
  },
  {
   "cell_type": "code",
   "execution_count": 7,
   "id": "9fef848c-0352-42cc-9bfa-462508601102",
   "metadata": {
    "tags": []
   },
   "outputs": [
    {
     "ename": "NameError",
     "evalue": "name 'result' is not defined",
     "output_type": "error",
     "traceback": [
      "\u001b[0;31m---------------------------------------------------------------------------\u001b[0m",
      "\u001b[0;31mNameError\u001b[0m                                 Traceback (most recent call last)",
      "Cell \u001b[0;32mIn[7], line 3\u001b[0m\n\u001b[1;32m      1\u001b[0m job_data \u001b[38;5;241m=\u001b[39m []\n\u001b[1;32m      2\u001b[0m \u001b[38;5;66;03m#url_pattern = r'http[s]?://(?:[a-zA-Z]|[0-9]|[$-_@.&+]|[!*\\\\(\\\\),]|(?:%[0-9a-fA-F][0-9a-fA-F]))+'\u001b[39;00m\n\u001b[0;32m----> 3\u001b[0m \u001b[38;5;28;01mfor\u001b[39;00m job \u001b[38;5;129;01min\u001b[39;00m \u001b[43mresult\u001b[49m:\n\u001b[1;32m      4\u001b[0m    \u001b[38;5;66;03m#text_without_urls = re.sub(url_pattern, '', tweet['tweet']['text'])\u001b[39;00m\n\u001b[1;32m      5\u001b[0m     job_data\u001b[38;5;241m.\u001b[39mappend({\u001b[38;5;124m'\u001b[39m\u001b[38;5;124mposition_id\u001b[39m\u001b[38;5;124m'\u001b[39m:job[\u001b[38;5;124m'\u001b[39m\u001b[38;5;124mPositionID\u001b[39m\u001b[38;5;124m'\u001b[39m],\u001b[38;5;124m'\u001b[39m\u001b[38;5;124msummary\u001b[39m\u001b[38;5;124m'\u001b[39m:job[\u001b[38;5;124m'\u001b[39m\u001b[38;5;124mQualificationSummary\u001b[39m\u001b[38;5;124m'\u001b[39m]})\n",
      "\u001b[0;31mNameError\u001b[0m: name 'result' is not defined"
     ]
    }
   ],
   "source": [
    "job_data = []\n",
    "#url_pattern = r'http[s]?://(?:[a-zA-Z]|[0-9]|[$-_@.&+]|[!*\\\\(\\\\),]|(?:%[0-9a-fA-F][0-9a-fA-F]))+'\n",
    "for job in result:\n",
    "   #text_without_urls = re.sub(url_pattern, '', tweet['tweet']['text'])\n",
    "    job_data.append({'position_id':job['PositionID'],'summary':job['QualificationSummary']})"
   ]
  },
  {
   "cell_type": "code",
   "execution_count": 8,
   "id": "2655f42e-81f6-428a-a79c-1e9c9be3aa3e",
   "metadata": {
    "tags": []
   },
   "outputs": [
    {
     "name": "stdout",
     "output_type": "stream",
     "text": [
      "Number of jobs:  0\n"
     ]
    }
   ],
   "source": [
    "print('Number of jobs: ',len(job_data))"
   ]
  },
  {
   "cell_type": "markdown",
   "id": "c288dace-226b-47f1-a153-60f6044e21d4",
   "metadata": {},
   "source": [
    "## Set up OpenAI API"
   ]
  },
  {
   "cell_type": "markdown",
   "id": "2e425649-b944-476b-b051-10e386a37031",
   "metadata": {},
   "source": [
    "Load the OpenAI API key and set the API parameters.\n",
    "\n",
    "- Model type: usegpt-4o by default, and you choose any [availabel models](https://platform.openai.com/docs/models).\n",
    "- Token estimate: 100 tokens ~= 75 words in English. Total token usage = tokens in the prompt + tokens in the completion. You can get a more accurate estimate at [Tokenier](https://platform.openai.com/tokenizer).\n",
    "- Temperature: Lower temperatures produce more consistent outputs, while higher values generate more diverse and creative results. "
   ]
  },
  {
   "cell_type": "markdown",
   "id": "996910ad-0ac9-4e7f-b20a-1c45f0a3c57f",
   "metadata": {},
   "source": [
    "A help function, ```openai_help```, is created to pass the prompt."
   ]
  },
  {
   "cell_type": "code",
   "execution_count": 11,
   "id": "c24a56f1-d729-4d61-9344-441b126a86b3",
   "metadata": {
    "tags": []
   },
   "outputs": [],
   "source": [
    "from openai import OpenAI\n",
    "client = OpenAI(api_key=openai_api_key)\n",
    "model=\"gpt-4o\"\n",
    "temperature=0\n",
    "\n",
    "def openai_help(prompt, model=model, temperature =temperature ):\n",
    "    messages = [{\"role\": \"user\", \"content\": prompt}]\n",
    "    response = client.chat.completions.create(\n",
    "        model=model,\n",
    "        messages=messages,\n",
    "        temperature=temperature\n",
    "\n",
    "    )\n",
    "    return response.choices[0].message.content"
   ]
  },
  {
   "cell_type": "markdown",
   "id": "5808bba1-785c-4ccf-abdd-170ea861280a",
   "metadata": {},
   "source": [
    "## Sentiment analysis"
   ]
  },
  {
   "cell_type": "markdown",
   "id": "bf5f403a-716e-4c06-a8d1-6098dfe48e41",
   "metadata": {},
   "source": [
    "Analyze the sentiment of each tweet and save the result to the MongoDB database."
   ]
  },
  {
   "cell_type": "code",
   "execution_count": 12,
   "id": "d3c09ce2-c467-4782-892c-ed6d911612d8",
   "metadata": {
    "tags": []
   },
   "outputs": [
    {
     "data": {
      "application/vnd.jupyter.widget-view+json": {
       "model_id": "de3551fac96e4462ac70d1ee216a4931",
       "version_major": 2,
       "version_minor": 0
      },
      "text/plain": [
       "  0%|          | 0/200 [00:00<?, ?it/s]"
      ]
     },
     "metadata": {},
     "output_type": "display_data"
    }
   ],
   "source": [
    "for tweet in tqdm(tweet_data):\n",
    "  \n",
    "    prompt = f\"\"\"\n",
    "    What is the sentiment of the following tweet, \n",
    "    tweet text: {tweet['tweet_text']}\n",
    "    return  the result with one word as Positive, Neutral,or Negative\n",
    " \n",
    "    \"\"\"\n",
    "#     print(prompt)\n",
    "    try:\n",
    "        sentiment_result =openai_help(prompt)\n",
    "    #     print(sentiment_result)\n",
    "\n",
    "        tweet_collection.update_one(\n",
    "            {'tweet.id':tweet['tweet_id']},\n",
    "            {\"$set\":{'tweet.sentiment':sentiment_result}}\n",
    "        )\n",
    "    except:\n",
    "        pass"
   ]
  },
  {
   "cell_type": "markdown",
   "id": "735f2c52-38a5-4ae2-b185-0a1f81763f50",
   "metadata": {
    "tags": []
   },
   "source": [
    "## Language translation"
   ]
  },
  {
   "cell_type": "markdown",
   "id": "48b69cff-e278-4613-a5c0-58aa042a9a87",
   "metadata": {},
   "source": [
    "Translate each tweet into a different language and save the result to the MongoDB database."
   ]
  },
  {
   "cell_type": "code",
   "execution_count": 13,
   "id": "48a66b2d-2aa1-4074-bbdd-3f5483dcbcc2",
   "metadata": {
    "tags": []
   },
   "outputs": [
    {
     "data": {
      "application/vnd.jupyter.widget-view+json": {
       "model_id": "7360383919544cde9eb174cc776d4250",
       "version_major": 2,
       "version_minor": 0
      },
      "text/plain": [
       "  0%|          | 0/200 [00:00<?, ?it/s]"
      ]
     },
     "metadata": {},
     "output_type": "display_data"
    }
   ],
   "source": [
    "for tweet in tqdm(tweet_data):\n",
    "  \n",
    "    prompt = f\"\"\"\n",
    "    Translate the following tweet into Spanish\n",
    "    tweet text: {tweet['tweet_text']}\n",
    " \n",
    "    \"\"\"\n",
    "#     print(prompt)\n",
    "    try:\n",
    "        translate_result =openai_help(prompt)\n",
    "#         print(translate_result)\n",
    "\n",
    "        tweet_collection.update_one(\n",
    "            {'tweet.id':tweet['tweet_id']},\n",
    "            {\"$set\":{'tweet.translate':translate_result}}\n",
    "        )\n",
    "    except:\n",
    "        pass"
   ]
  },
  {
   "cell_type": "markdown",
   "id": "96f49995-c37d-47da-94f9-6600b4af83c5",
   "metadata": {},
   "source": [
    "## Identify emotions"
   ]
  },
  {
   "cell_type": "markdown",
   "id": "d90a76ee-a860-45bd-9b46-125313a53bfd",
   "metadata": {},
   "source": [
    "Identify whether a tweet expresses anger, and save the result to the MongoDB database."
   ]
  },
  {
   "cell_type": "code",
   "execution_count": 14,
   "id": "cf4d952c-e418-475c-8d66-a5aea631ce47",
   "metadata": {
    "scrolled": true,
    "tags": []
   },
   "outputs": [
    {
     "data": {
      "application/vnd.jupyter.widget-view+json": {
       "model_id": "aad9e6e135794a3c93b8d52407d04bdc",
       "version_major": 2,
       "version_minor": 0
      },
      "text/plain": [
       "  0%|          | 0/200 [00:00<?, ?it/s]"
      ]
     },
     "metadata": {},
     "output_type": "display_data"
    }
   ],
   "source": [
    "for tweet in tqdm(tweet_data):\n",
    "  \n",
    "    prompt = f\"\"\"\n",
    "    Detect the emotion in the following tweet, and extract whether the tweet expresses anger.\n",
    "    Provide the result as True, False, or Unknown. \n",
    "    Don't provide any reasoning or other output.\n",
    "    tweet text: {tweet['tweet_text']}\n",
    " \n",
    "    \"\"\"\n",
    "#     print(prompt)\n",
    "    try:\n",
    "        emotion_result =openai_help(prompt)\n",
    "        # print(emotion_result)\n",
    "\n",
    "        tweet_collection.update_one(\n",
    "                {'tweet.id':tweet['tweet_id']},\n",
    "                {\"$set\":{'tweet.anger':emotion_result}}\n",
    "            )\n",
    "    except:\n",
    "        pass"
   ]
  },
  {
   "cell_type": "markdown",
   "id": "d9297c56-9faf-4d5b-ac07-e1ad670ae78b",
   "metadata": {},
   "source": [
    "## Extract Skills"
   ]
  },
  {
   "cell_type": "markdown",
   "id": "8e1f09e0-2ddd-4fe7-973a-c238067761c4",
   "metadata": {},
   "source": [
    "Extract common skills from each job and save the result the the MongoDB database."
   ]
  },
  {
   "cell_type": "code",
   "execution_count": 2,
   "id": "918a668f-3e48-40aa-a7fa-cd150254bd87",
   "metadata": {
    "scrolled": true,
    "tags": []
   },
   "outputs": [
    {
     "ename": "NameError",
     "evalue": "name 'tqdm' is not defined",
     "output_type": "error",
     "traceback": [
      "\u001b[0;31m---------------------------------------------------------------------------\u001b[0m",
      "\u001b[0;31mNameError\u001b[0m                                 Traceback (most recent call last)",
      "Cell \u001b[0;32mIn[2], line 1\u001b[0m\n\u001b[0;32m----> 1\u001b[0m \u001b[38;5;28;01mfor\u001b[39;00m job \u001b[38;5;129;01min\u001b[39;00m \u001b[43mtqdm\u001b[49m(job_data):\n\u001b[1;32m      3\u001b[0m     prompt \u001b[38;5;241m=\u001b[39m \u001b[38;5;124mf\u001b[39m\u001b[38;5;124m\"\"\"\u001b[39m\n\u001b[1;32m      4\u001b[0m \u001b[38;5;124m    Identify the common technology skills from the following job summary,\u001b[39m\n\u001b[1;32m      5\u001b[0m \u001b[38;5;124m    job summary: \u001b[39m\u001b[38;5;132;01m{\u001b[39;00mjob[\u001b[38;5;124m'\u001b[39m\u001b[38;5;124msummary\u001b[39m\u001b[38;5;124m'\u001b[39m]\u001b[38;5;132;01m}\u001b[39;00m\u001b[38;5;124m,\u001b[39m\n\u001b[0;32m   (...)\u001b[0m\n\u001b[1;32m      9\u001b[0m \u001b[38;5;124m   \u001b[39m\n\u001b[1;32m     10\u001b[0m \u001b[38;5;124m    \u001b[39m\u001b[38;5;124m\"\"\"\u001b[39m\n\u001b[1;32m     11\u001b[0m \u001b[38;5;66;03m#     print(prompt)\u001b[39;00m\n",
      "\u001b[0;31mNameError\u001b[0m: name 'tqdm' is not defined"
     ]
    }
   ],
   "source": [
    "for job in tqdm(job_data):\n",
    "  \n",
    "    prompt = f\"\"\"\n",
    "    Identify the common technology skills from the following job summary,\n",
    "    job summary: {job['summary']},\n",
    "    format the items in a JSON list,\n",
    "    be consistent, generalize, and concise, if no technology skills presented, use \"Unknown\" in the list.\n",
    "    Do not wrap the JSON codes in the JSON markers \n",
    "   \n",
    "    \"\"\"\n",
    "#     print(prompt)\n",
    "    try:\n",
    "        extract_result =openai_help(prompt)\n",
    "#        print(extract_result)\n",
    "\n",
    "        job_collection.update_one(\n",
    "                {'PositionID':tweet['position_id']},\n",
    "                {\"$set\":{'skills':json.loads(extract_result)}}\n",
    "                )\n",
    "    except:\n",
    "        pass"
   ]
  },
  {
   "cell_type": "code",
   "execution_count": null,
   "id": "089f20b5-1e5e-441c-a412-ca1e0f0ccfc4",
   "metadata": {},
   "outputs": [],
   "source": []
  }
 ],
 "metadata": {
  "kernelspec": {
   "display_name": "conda_python3",
   "language": "python",
   "name": "conda_python3"
  },
  "language_info": {
   "codemirror_mode": {
    "name": "ipython",
    "version": 3
   },
   "file_extension": ".py",
   "mimetype": "text/x-python",
   "name": "python",
   "nbconvert_exporter": "python",
   "pygments_lexer": "ipython3",
   "version": "3.10.15"
  }
 },
 "nbformat": 4,
 "nbformat_minor": 5
}
